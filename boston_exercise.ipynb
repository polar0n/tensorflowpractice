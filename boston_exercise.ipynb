{
 "cells": [
  {
   "cell_type": "code",
   "execution_count": 9,
   "metadata": {},
   "outputs": [],
   "source": [
    "import tensorflow as tf\n",
    "import pandas as pd\n",
    "import matplotlib.pyplot as plt\n",
    "import numpy as np"
   ]
  },
  {
   "cell_type": "code",
   "execution_count": 27,
   "metadata": {},
   "outputs": [],
   "source": [
    "(x_train, y_train), (x_test, y_test) = tf.keras.datasets.boston_housing.load_data()"
   ]
  },
  {
   "cell_type": "code",
   "execution_count": 28,
   "metadata": {},
   "outputs": [],
   "source": [
    "# Delete the racist column `B`\n",
    "x_train = np.delete(arr=x_train, obj=11, axis=1)\n",
    "x_test = np.delete(arr=x_test, obj=11, axis=1)"
   ]
  },
  {
   "cell_type": "code",
   "execution_count": 29,
   "metadata": {},
   "outputs": [
    {
     "data": {
      "text/plain": [
       "array([[1.38516817e-02, 0.00000000e+00, 2.93439077e-01, ...,\n",
       "        4.31786217e-01, 9.54545455e-01, 4.93020806e-01],\n",
       "       [2.44672171e-04, 8.25000000e-01, 7.31795242e-02, ...,\n",
       "        4.89451477e-01, 6.68181818e-01, 8.19067685e-02],\n",
       "       [5.50509013e-02, 0.00000000e+00, 6.52487383e-01, ...,\n",
       "        9.36708861e-01, 9.18181818e-01, 8.58572557e-02],\n",
       "       ...,\n",
       "       [3.89542372e-04, 3.50000000e-01, 2.18457102e-01, ...,\n",
       "        4.27566807e-01, 7.68181818e-01, 2.06215433e-01],\n",
       "       [2.41545492e-02, 0.00000000e+00, 7.05839942e-01, ...,\n",
       "        5.66807314e-01, 6.68181818e-01, 4.15854622e-01],\n",
       "       [1.61728642e-04, 6.00000000e-01, 1.05623648e-01, ...,\n",
       "        3.72714487e-01, 7.09090909e-01, 1.15354227e-01]])"
      ]
     },
     "execution_count": 29,
     "metadata": {},
     "output_type": "execute_result"
    }
   ],
   "source": [
    "# Find the columns which have to be normalized\n",
    "for i in range(len(x_train[0])):\n",
    "    maximum = max(x_train[:,i].max(), x_test[:,i].max())\n",
    "    minimum = min(x_train[:,i].min(), x_test[:,i].min())\n",
    "    if minimum < 0.0:\n",
    "        raise(f'The minimum value for column {i} is {minimum}')\n",
    "    if maximum > 1.0:\n",
    "        x_train[:,i] = x_train[:,i] / maximum\n",
    "        x_test[:,i] = x_test[:,i] / maximum"
   ]
  },
  {
   "cell_type": "code",
   "execution_count": 81,
   "metadata": {},
   "outputs": [
    {
     "name": "stdout",
     "output_type": "stream",
     "text": [
      "Epoch 1/500\n",
      "13/13 [==============================] - 1s 3ms/step - loss: 10.2543 - mae: 10.2543\n",
      "Epoch 2/500\n",
      "13/13 [==============================] - 0s 3ms/step - loss: 6.4689 - mae: 6.4689\n",
      "Epoch 3/500\n",
      "13/13 [==============================] - 0s 3ms/step - loss: 5.1661 - mae: 5.1661\n",
      "Epoch 4/500\n",
      "13/13 [==============================] - 0s 3ms/step - loss: 4.3913 - mae: 4.3913\n",
      "Epoch 5/500\n",
      "13/13 [==============================] - 0s 3ms/step - loss: 4.5381 - mae: 4.5381\n",
      "Epoch 6/500\n",
      "13/13 [==============================] - 0s 3ms/step - loss: 4.2313 - mae: 4.2313\n",
      "Epoch 7/500\n",
      "13/13 [==============================] - 0s 3ms/step - loss: 4.0798 - mae: 4.0798\n",
      "Epoch 8/500\n",
      "13/13 [==============================] - 0s 4ms/step - loss: 4.1703 - mae: 4.1703\n",
      "Epoch 9/500\n",
      "13/13 [==============================] - 0s 4ms/step - loss: 4.0300 - mae: 4.0300\n",
      "Epoch 10/500\n",
      "13/13 [==============================] - 0s 3ms/step - loss: 4.1243 - mae: 4.1243\n",
      "Epoch 11/500\n",
      "13/13 [==============================] - 0s 3ms/step - loss: 3.5990 - mae: 3.5990\n",
      "Epoch 12/500\n",
      "13/13 [==============================] - 0s 3ms/step - loss: 3.5064 - mae: 3.5064\n",
      "Epoch 13/500\n",
      "13/13 [==============================] - 0s 3ms/step - loss: 3.5449 - mae: 3.5449\n",
      "Epoch 14/500\n",
      "13/13 [==============================] - 0s 3ms/step - loss: 3.7130 - mae: 3.7130\n",
      "Epoch 15/500\n",
      "13/13 [==============================] - 0s 3ms/step - loss: 3.5632 - mae: 3.5632\n",
      "Epoch 16/500\n",
      "13/13 [==============================] - 0s 3ms/step - loss: 4.2993 - mae: 4.2993\n",
      "Epoch 17/500\n",
      "13/13 [==============================] - 0s 3ms/step - loss: 3.8914 - mae: 3.8914\n",
      "Epoch 18/500\n",
      "13/13 [==============================] - 0s 2ms/step - loss: 4.0463 - mae: 4.0463\n",
      "Epoch 19/500\n",
      "13/13 [==============================] - 0s 3ms/step - loss: 3.6261 - mae: 3.6261\n",
      "Epoch 20/500\n",
      "13/13 [==============================] - 0s 2ms/step - loss: 3.7326 - mae: 3.7326\n",
      "Epoch 21/500\n",
      "13/13 [==============================] - 0s 3ms/step - loss: 4.0398 - mae: 4.0398\n",
      "Epoch 22/500\n",
      "13/13 [==============================] - 0s 4ms/step - loss: 3.6247 - mae: 3.6247\n"
     ]
    }
   ],
   "source": [
    "# 1. Create a model\n",
    "model = tf.keras.Sequential([\n",
    "    tf.keras.layers.Dense(100),\n",
    "    tf.keras.layers.Dense(20)\n",
    "])\n",
    "\n",
    "# 2. Compile the model\n",
    "model.compile(loss=tf.keras.losses.mae,\n",
    "              optimizer=tf.keras.optimizers.Adam(learning_rate=0.1),\n",
    "              metrics=['mae'])\n",
    "\n",
    "# 3. Fit the model\n",
    "history = model.fit(\n",
    "    x_train, \n",
    "    y_train,\n",
    "    epochs=500,\n",
    "    verbose=1,\n",
    "    callbacks=[tf.keras.callbacks.EarlyStopping(\n",
    "        monitor='mae',\n",
    "        patience=10,\n",
    "        restore_best_weights=True\n",
    "    )]\n",
    ")"
   ]
  },
  {
   "cell_type": "code",
   "execution_count": 82,
   "metadata": {},
   "outputs": [
    {
     "name": "stdout",
     "output_type": "stream",
     "text": [
      "4/4 [==============================] - 0s 4ms/step - loss: 3.7383 - mae: 3.7383\n"
     ]
    },
    {
     "data": {
      "text/plain": [
       "[3.738337993621826, 3.738337993621826]"
      ]
     },
     "execution_count": 82,
     "metadata": {},
     "output_type": "execute_result"
    }
   ],
   "source": [
    "model.evaluate(x_test, y_test)"
   ]
  },
  {
   "cell_type": "code",
   "execution_count": 83,
   "metadata": {},
   "outputs": [
    {
     "data": {
      "text/plain": [
       "Text(0.5, 0, 'Epochs')"
      ]
     },
     "execution_count": 83,
     "metadata": {},
     "output_type": "execute_result"
    },
    {
     "data": {
      "image/png": "[encoded data removed]",
      "text/plain": [
       "<Figure size 640x480 with 1 Axes>"
      ]
     },
     "metadata": {},
     "output_type": "display_data"
    }
   ],
   "source": [
    "plt.plot(history.history['mae'])\n",
    "plt.ylabel('MAE')\n",
    "plt.xlabel('Epochs')"
   ]
  }
 ],
 "metadata": {
  "kernelspec": {
   "display_name": "Python 3",
   "language": "python",
   "name": "python3"
  },
  "language_info": {
   "codemirror_mode": {
    "name": "ipython",
    "version": 3
   },
   "file_extension": ".py",
   "mimetype": "text/x-python",
   "name": "python",
   "nbconvert_exporter": "python",
   "pygments_lexer": "ipython3",
   "version": "3.10.7"
  },
  "orig_nbformat": 4
 },
 "nbformat": 4,
 "nbformat_minor": 2
}
