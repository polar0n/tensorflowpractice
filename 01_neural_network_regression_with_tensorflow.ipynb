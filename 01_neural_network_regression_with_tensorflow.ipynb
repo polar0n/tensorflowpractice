{
 "cells": [
  {
   "attachments": {},
   "cell_type": "markdown",
   "metadata": {},
   "source": [
    "# Introudction to Regression with Neural Netowrks in Tensorflow\n",
    "\n",
    "Many definitions for regression problems. We will simplify: predicting a numerical variable based on some other combination of variables, even shorter... predicting a number."
   ]
  },
  {
   "cell_type": "code",
   "execution_count": 1,
   "metadata": {},
   "outputs": [
    {
     "name": "stdout",
     "output_type": "stream",
     "text": [
      "2.11.0\n"
     ]
    }
   ],
   "source": [
    "# Import tf\n",
    "import tensorflow as tf\n",
    "import numpy as np\n",
    "import matplotlib.pyplot as plt\n",
    "print(tf.__version__)"
   ]
  },
  {
   "cell_type": "code",
   "execution_count": 2,
   "metadata": {},
   "outputs": [
    {
     "data": {
      "text/plain": [
       "<matplotlib.collections.PathCollection at 0x298b22ee680>"
      ]
     },
     "execution_count": 2,
     "metadata": {},
     "output_type": "execute_result"
    },
    {
     "data": {
      "image/png": "[encoded data removed]",
      "text/plain": [
       "<Figure size 640x480 with 1 Axes>"
      ]
     },
     "metadata": {},
     "output_type": "display_data"
    }
   ],
   "source": [
    "# Create features\n",
    "X = np.array([-7., -4., -1., 2., 5., 8., 11., 14.])\n",
    "\n",
    "# Create labels\n",
    "y = np.array([3.0, 6., 9., 12., 15., 18., 21., 24])\n",
    "\n",
    "# Visualize\n",
    "plt.scatter(X, y)"
   ]
  },
  {
   "attachments": {},
   "cell_type": "markdown",
   "metadata": {},
   "source": [
    "## Input and output shapes"
   ]
  },
  {
   "cell_type": "code",
   "execution_count": 3,
   "metadata": {},
   "outputs": [
    {
     "data": {
      "text/plain": [
       "(<tf.Tensor: shape=(3,), dtype=string, numpy=array([b'bedroom', b'bathroom', b'garage'], dtype=object)>,\n",
       " <tf.Tensor: shape=(1,), dtype=int32, numpy=array([939700])>)"
      ]
     },
     "execution_count": 3,
     "metadata": {},
     "output_type": "execute_result"
    }
   ],
   "source": [
    "# Create a demo tensor for our housing price prediction problem\n",
    "house_info = tf.constant(['bedroom', 'bathroom', 'garage'])\n",
    "house_price = tf.constant([939700])\n",
    "\n",
    "house_info, house_price"
   ]
  },
  {
   "cell_type": "code",
   "execution_count": 4,
   "metadata": {},
   "outputs": [
    {
     "data": {
      "text/plain": [
       "((), ())"
      ]
     },
     "execution_count": 4,
     "metadata": {},
     "output_type": "execute_result"
    }
   ],
   "source": [
    "input_shape = X[0].shape\n",
    "output_shape = y[0].shape\n",
    "\n",
    "input_shape, output_shape"
   ]
  },
  {
   "cell_type": "code",
   "execution_count": 5,
   "metadata": {},
   "outputs": [
    {
     "data": {
      "text/plain": [
       "0"
      ]
     },
     "execution_count": 5,
     "metadata": {},
     "output_type": "execute_result"
    }
   ],
   "source": [
    "X[0].ndim"
   ]
  },
  {
   "cell_type": "code",
   "execution_count": 6,
   "metadata": {},
   "outputs": [
    {
     "data": {
      "text/plain": [
       "(-7.0, 3.0)"
      ]
     },
     "execution_count": 6,
     "metadata": {},
     "output_type": "execute_result"
    }
   ],
   "source": [
    "X[0], y[0]"
   ]
  },
  {
   "attachments": {},
   "cell_type": "markdown",
   "metadata": {},
   "source": [
    "#### OLD\n",
    "Fit the model\n",
    "\n",
    "`model.fit(X, y, epochs=5) # this will break with TensorFlow 2.7.0+`\n",
    " \n",
    "#### New\n",
    "Fit the model\n",
    "\n",
    "`model.fit(tf.expand_dims(X, axis=-1), y, epochs=5) # <- updated line`"
   ]
  },
  {
   "cell_type": "code",
   "execution_count": 7,
   "metadata": {},
   "outputs": [
    {
     "data": {
      "text/plain": [
       "(<tf.Tensor: shape=(8,), dtype=float16, numpy=array([-7., -4., -1.,  2.,  5.,  8., 11., 14.], dtype=float16)>,\n",
       " <tf.Tensor: shape=(8,), dtype=float16, numpy=array([ 3.,  6.,  9., 12., 15., 18., 21., 24.], dtype=float16)>)"
      ]
     },
     "execution_count": 7,
     "metadata": {},
     "output_type": "execute_result"
    }
   ],
   "source": [
    "# Turn our numpy array into tensors\n",
    "X = tf.cast(tf.constant(X), dtype=tf.float16)\n",
    "y = tf.cast(tf.constant(y), dtype=tf.float16)\n",
    "\n",
    "X, y"
   ]
  },
  {
   "attachments": {},
   "cell_type": "markdown",
   "metadata": {},
   "source": [
    "## Steps in modelling with Tensorflow\n",
    "\n",
    "1. **Creating a model** - define the input and output layers, as well as the hidden layers of a deep learning model.\n",
    "2. **Compiling a model** - define the loss function (i.e., words, the function which tells our model how wrong it is ) and the optimizer (tells our model how to improve the patterns its learning) and evaluation metric (what we can use to interpret the performance of our model).\n",
    "3. **Fitting a model** - letting the model try to find patterns between X & y (features and labels)."
   ]
  },
  {
   "attachments": {},
   "cell_type": "markdown",
   "metadata": {},
   "source": [
    "Mean Absolute Error:\n",
    "\n",
    "$MAE = \\frac{\\sum_{i=1}^{n}{|y_i-x_i|}}{n}=\\frac{\\sum_{i=1}^{n}{|e_i|}}{n}$\n",
    "\n",
    "Where $y_i$ is the prediction and $x_i$ is the true value.\n",
    "\n",
    "`loss = mean(abs(y_true-y_pred), axis=-1)`"
   ]
  },
  {
   "cell_type": "code",
   "execution_count": 8,
   "metadata": {},
   "outputs": [
    {
     "name": "stdout",
     "output_type": "stream",
     "text": [
      "Epoch 1/5\n",
      "1/1 [==============================] - 0s 475ms/step - loss: 8.4946 - mae: 8.4946\n",
      "Epoch 2/5\n",
      "1/1 [==============================] - 0s 10ms/step - loss: 8.3621 - mae: 8.3621\n",
      "Epoch 3/5\n",
      "1/1 [==============================] - 0s 9ms/step - loss: 8.2296 - mae: 8.2296\n",
      "Epoch 4/5\n",
      "1/1 [==============================] - 0s 13ms/step - loss: 8.0971 - mae: 8.0971\n",
      "Epoch 5/5\n",
      "1/1 [==============================] - 0s 10ms/step - loss: 7.9646 - mae: 7.9646\n"
     ]
    },
    {
     "data": {
      "text/plain": [
       "<keras.callbacks.History at 0x298b244d9f0>"
      ]
     },
     "execution_count": 8,
     "metadata": {},
     "output_type": "execute_result"
    }
   ],
   "source": [
    "# Set random seed\n",
    "tf.random.set_seed(42)\n",
    "\n",
    "# 1. Create a model using the Sequential API\n",
    "model = tf.keras.Sequential([\n",
    "    tf.keras.layers.Dense(1)                        # Input layer\n",
    "])\n",
    "# # Alternatively\n",
    "# model = tf.keras.Sequential()\n",
    "# model.add(tf.keras.layers.Dense(8, input_shape=(16,)))\n",
    "# # Afterwards we do automatic shape inference:\n",
    "# model.add(tf.keras.layers.Dense(4))\n",
    "\n",
    "# 2. Compile the model\n",
    "model.compile(loss=tf.keras.losses.mae,             # Mean Absolute Error\n",
    "              optimizer=tf.keras.optimizers.SGD(),  # Stochastic Gradient Descent\n",
    "              metrics=['mae'])\n",
    "\n",
    "# 3. Fit the model\n",
    "model.fit(tf.expand_dims(X, axis=-1), y, epochs=5)"
   ]
  },
  {
   "cell_type": "code",
   "execution_count": 9,
   "metadata": {},
   "outputs": [
    {
     "data": {
      "text/plain": [
       "(<tf.Tensor: shape=(8,), dtype=float16, numpy=array([-7., -4., -1.,  2.,  5.,  8., 11., 14.], dtype=float16)>,\n",
       " <tf.Tensor: shape=(8,), dtype=float16, numpy=array([ 3.,  6.,  9., 12., 15., 18., 21., 24.], dtype=float16)>)"
      ]
     },
     "execution_count": 9,
     "metadata": {},
     "output_type": "execute_result"
    }
   ],
   "source": [
    "# Check out X and Y\n",
    "X, y"
   ]
  },
  {
   "cell_type": "code",
   "execution_count": 10,
   "metadata": {},
   "outputs": [
    {
     "name": "stdout",
     "output_type": "stream",
     "text": [
      "1/1 [==============================] - 0s 118ms/step\n"
     ]
    },
    {
     "data": {
      "text/plain": [
       "array([[27.336857]], dtype=float32)"
      ]
     },
     "execution_count": 10,
     "metadata": {},
     "output_type": "execute_result"
    }
   ],
   "source": [
    "# Try and make a prediction using our model\n",
    "model.predict([17.])"
   ]
  },
  {
   "attachments": {},
   "cell_type": "markdown",
   "metadata": {},
   "source": [
    "## Improving our model\n",
    "\n",
    "We can improve our model, by altering the steps we took to create a model.\n",
    "\n",
    "1. **Creating a model** - here we might add more layers, increase the number of hidden units (all called neurons) within each of the hidden layers, change the activation function of each layer.\n",
    "2. **Compiling a model** - here we might change the optimization function or perhaps the **learning rate** of the optimization function.\n",
    "3. **Fitting a model** - here we might fit a model for more **epochs** (leave it training for longer) or on more data (give the model more examples to learn from)."
   ]
  },
  {
   "cell_type": "code",
   "execution_count": 11,
   "metadata": {},
   "outputs": [
    {
     "name": "stdout",
     "output_type": "stream",
     "text": [
      "Epoch 1/100\n",
      "1/1 [==============================] - 0s 379ms/step - loss: 9.2186 - mae: 9.2186\n",
      "Epoch 2/100\n",
      "1/1 [==============================] - 0s 7ms/step - loss: 9.0861 - mae: 9.0861\n",
      "Epoch 3/100\n",
      "1/1 [==============================] - 0s 10ms/step - loss: 8.9536 - mae: 8.9536\n",
      "Epoch 4/100\n",
      "1/1 [==============================] - 0s 11ms/step - loss: 8.8211 - mae: 8.8211\n",
      "Epoch 5/100\n",
      "1/1 [==============================] - 0s 11ms/step - loss: 8.6886 - mae: 8.6886\n",
      "Epoch 6/100\n",
      "1/1 [==============================] - 0s 10ms/step - loss: 8.5561 - mae: 8.5561\n",
      "Epoch 7/100\n",
      "1/1 [==============================] - 0s 9ms/step - loss: 8.4236 - mae: 8.4236\n",
      "Epoch 8/100\n",
      "1/1 [==============================] - 0s 12ms/step - loss: 8.2911 - mae: 8.2911\n",
      "Epoch 9/100\n",
      "1/1 [==============================] - 0s 10ms/step - loss: 8.1586 - mae: 8.1586\n",
      "Epoch 10/100\n",
      "1/1 [==============================] - 0s 10ms/step - loss: 8.0261 - mae: 8.0261\n",
      "Epoch 11/100\n",
      "1/1 [==============================] - 0s 10ms/step - loss: 7.8936 - mae: 7.8936\n",
      "Epoch 12/100\n",
      "1/1 [==============================] - 0s 10ms/step - loss: 7.7611 - mae: 7.7611\n",
      "Epoch 13/100\n",
      "1/1 [==============================] - 0s 12ms/step - loss: 7.6286 - mae: 7.6286\n",
      "Epoch 14/100\n",
      "1/1 [==============================] - 0s 9ms/step - loss: 7.4961 - mae: 7.4961\n",
      "Epoch 15/100\n",
      "1/1 [==============================] - 0s 10ms/step - loss: 7.3950 - mae: 7.3950\n",
      "Epoch 16/100\n",
      "1/1 [==============================] - 0s 8ms/step - loss: 7.3894 - mae: 7.3894\n",
      "Epoch 17/100\n",
      "1/1 [==============================] - 0s 10ms/step - loss: 7.3838 - mae: 7.3838\n",
      "Epoch 18/100\n",
      "1/1 [==============================] - 0s 11ms/step - loss: 7.3781 - mae: 7.3781\n",
      "Epoch 19/100\n",
      "1/1 [==============================] - 0s 8ms/step - loss: 7.3725 - mae: 7.3725\n",
      "Epoch 20/100\n",
      "1/1 [==============================] - 0s 8ms/step - loss: 7.3669 - mae: 7.3669\n",
      "Epoch 21/100\n",
      "1/1 [==============================] - 0s 10ms/step - loss: 7.3612 - mae: 7.3612\n",
      "Epoch 22/100\n",
      "1/1 [==============================] - 0s 9ms/step - loss: 7.3556 - mae: 7.3556\n",
      "Epoch 23/100\n",
      "1/1 [==============================] - 0s 8ms/step - loss: 7.3500 - mae: 7.3500\n",
      "Epoch 24/100\n",
      "1/1 [==============================] - 0s 8ms/step - loss: 7.3444 - mae: 7.3444\n",
      "Epoch 25/100\n",
      "1/1 [==============================] - 0s 10ms/step - loss: 7.3387 - mae: 7.3387\n",
      "Epoch 26/100\n",
      "1/1 [==============================] - 0s 9ms/step - loss: 7.3331 - mae: 7.3331\n",
      "Epoch 27/100\n",
      "1/1 [==============================] - 0s 8ms/step - loss: 7.3275 - mae: 7.3275\n",
      "Epoch 28/100\n",
      "1/1 [==============================] - 0s 8ms/step - loss: 7.3219 - mae: 7.3219\n",
      "Epoch 29/100\n",
      "1/1 [==============================] - 0s 8ms/step - loss: 7.3163 - mae: 7.3163\n",
      "Epoch 30/100\n",
      "1/1 [==============================] - 0s 8ms/step - loss: 7.3106 - mae: 7.3106\n",
      "Epoch 31/100\n",
      "1/1 [==============================] - 0s 11ms/step - loss: 7.3050 - mae: 7.3050\n",
      "Epoch 32/100\n",
      "1/1 [==============================] - 0s 9ms/step - loss: 7.2994 - mae: 7.2994\n",
      "Epoch 33/100\n",
      "1/1 [==============================] - 0s 9ms/step - loss: 7.2937 - mae: 7.2937\n",
      "Epoch 34/100\n",
      "1/1 [==============================] - 0s 10ms/step - loss: 7.2881 - mae: 7.2881\n",
      "Epoch 35/100\n",
      "1/1 [==============================] - 0s 8ms/step - loss: 7.2825 - mae: 7.2825\n",
      "Epoch 36/100\n",
      "1/1 [==============================] - 0s 9ms/step - loss: 7.2769 - mae: 7.2769\n",
      "Epoch 37/100\n",
      "1/1 [==============================] - 0s 9ms/step - loss: 7.2712 - mae: 7.2712\n",
      "Epoch 38/100\n",
      "1/1 [==============================] - 0s 10ms/step - loss: 7.2656 - mae: 7.2656\n",
      "Epoch 39/100\n",
      "1/1 [==============================] - 0s 9ms/step - loss: 7.2600 - mae: 7.2600\n",
      "Epoch 40/100\n",
      "1/1 [==============================] - 0s 9ms/step - loss: 7.2544 - mae: 7.2544\n",
      "Epoch 41/100\n",
      "1/1 [==============================] - 0s 9ms/step - loss: 7.2487 - mae: 7.2487\n",
      "Epoch 42/100\n",
      "1/1 [==============================] - 0s 10ms/step - loss: 7.2431 - mae: 7.2431\n",
      "Epoch 43/100\n",
      "1/1 [==============================] - 0s 11ms/step - loss: 7.2375 - mae: 7.2375\n",
      "Epoch 44/100\n",
      "1/1 [==============================] - 0s 8ms/step - loss: 7.2319 - mae: 7.2319\n",
      "Epoch 45/100\n",
      "1/1 [==============================] - 0s 9ms/step - loss: 7.2262 - mae: 7.2262\n",
      "Epoch 46/100\n",
      "1/1 [==============================] - 0s 8ms/step - loss: 7.2206 - mae: 7.2206\n",
      "Epoch 47/100\n",
      "1/1 [==============================] - 0s 9ms/step - loss: 7.2150 - mae: 7.2150\n",
      "Epoch 48/100\n",
      "1/1 [==============================] - 0s 9ms/step - loss: 7.2094 - mae: 7.2094\n",
      "Epoch 49/100\n",
      "1/1 [==============================] - 0s 8ms/step - loss: 7.2038 - mae: 7.2038\n",
      "Epoch 50/100\n",
      "1/1 [==============================] - 0s 9ms/step - loss: 7.1981 - mae: 7.1981\n",
      "Epoch 51/100\n",
      "1/1 [==============================] - 0s 11ms/step - loss: 7.1925 - mae: 7.1925\n",
      "Epoch 52/100\n",
      "1/1 [==============================] - 0s 8ms/step - loss: 7.1869 - mae: 7.1869\n",
      "Epoch 53/100\n",
      "1/1 [==============================] - 0s 9ms/step - loss: 7.1813 - mae: 7.1813\n",
      "Epoch 54/100\n",
      "1/1 [==============================] - 0s 8ms/step - loss: 7.1756 - mae: 7.1756\n",
      "Epoch 55/100\n",
      "1/1 [==============================] - 0s 7ms/step - loss: 7.1700 - mae: 7.1700\n",
      "Epoch 56/100\n",
      "1/1 [==============================] - 0s 10ms/step - loss: 7.1644 - mae: 7.1644\n",
      "Epoch 57/100\n",
      "1/1 [==============================] - 0s 7ms/step - loss: 7.1588 - mae: 7.1588\n",
      "Epoch 58/100\n",
      "1/1 [==============================] - 0s 8ms/step - loss: 7.1531 - mae: 7.1531\n",
      "Epoch 59/100\n",
      "1/1 [==============================] - 0s 9ms/step - loss: 7.1475 - mae: 7.1475\n",
      "Epoch 60/100\n",
      "1/1 [==============================] - 0s 10ms/step - loss: 7.1419 - mae: 7.1419\n",
      "Epoch 61/100\n",
      "1/1 [==============================] - 0s 9ms/step - loss: 7.1363 - mae: 7.1363\n",
      "Epoch 62/100\n",
      "1/1 [==============================] - 0s 9ms/step - loss: 7.1306 - mae: 7.1306\n",
      "Epoch 63/100\n",
      "1/1 [==============================] - 0s 10ms/step - loss: 7.1250 - mae: 7.1250\n",
      "Epoch 64/100\n",
      "1/1 [==============================] - 0s 8ms/step - loss: 7.1194 - mae: 7.1194\n",
      "Epoch 65/100\n",
      "1/1 [==============================] - 0s 9ms/step - loss: 7.1137 - mae: 7.1137\n",
      "Epoch 66/100\n",
      "1/1 [==============================] - 0s 10ms/step - loss: 7.1081 - mae: 7.1081\n",
      "Epoch 67/100\n",
      "1/1 [==============================] - 0s 7ms/step - loss: 7.1025 - mae: 7.1025\n",
      "Epoch 68/100\n",
      "1/1 [==============================] - 0s 9ms/step - loss: 7.0969 - mae: 7.0969\n",
      "Epoch 69/100\n",
      "1/1 [==============================] - 0s 9ms/step - loss: 7.0913 - mae: 7.0913\n",
      "Epoch 70/100\n",
      "1/1 [==============================] - 0s 8ms/step - loss: 7.0856 - mae: 7.0856\n",
      "Epoch 71/100\n",
      "1/1 [==============================] - 0s 9ms/step - loss: 7.0800 - mae: 7.0800\n",
      "Epoch 72/100\n",
      "1/1 [==============================] - 0s 9ms/step - loss: 7.0744 - mae: 7.0744\n",
      "Epoch 73/100\n",
      "1/1 [==============================] - 0s 8ms/step - loss: 7.0688 - mae: 7.0688\n",
      "Epoch 74/100\n",
      "1/1 [==============================] - 0s 8ms/step - loss: 7.0631 - mae: 7.0631\n",
      "Epoch 75/100\n",
      "1/1 [==============================] - 0s 11ms/step - loss: 7.0575 - mae: 7.0575\n",
      "Epoch 76/100\n",
      "1/1 [==============================] - 0s 8ms/step - loss: 7.0519 - mae: 7.0519\n",
      "Epoch 77/100\n",
      "1/1 [==============================] - 0s 9ms/step - loss: 7.0462 - mae: 7.0462\n",
      "Epoch 78/100\n",
      "1/1 [==============================] - 0s 8ms/step - loss: 7.0406 - mae: 7.0406\n",
      "Epoch 79/100\n",
      "1/1 [==============================] - 0s 9ms/step - loss: 7.0350 - mae: 7.0350\n",
      "Epoch 80/100\n",
      "1/1 [==============================] - 0s 8ms/step - loss: 7.0294 - mae: 7.0294\n",
      "Epoch 81/100\n",
      "1/1 [==============================] - 0s 9ms/step - loss: 7.0238 - mae: 7.0238\n",
      "Epoch 82/100\n",
      "1/1 [==============================] - 0s 10ms/step - loss: 7.0181 - mae: 7.0181\n",
      "Epoch 83/100\n",
      "1/1 [==============================] - 0s 8ms/step - loss: 7.0125 - mae: 7.0125\n",
      "Epoch 84/100\n",
      "1/1 [==============================] - 0s 8ms/step - loss: 7.0069 - mae: 7.0069\n",
      "Epoch 85/100\n",
      "1/1 [==============================] - 0s 9ms/step - loss: 7.0013 - mae: 7.0013\n",
      "Epoch 86/100\n",
      "1/1 [==============================] - 0s 12ms/step - loss: 6.9956 - mae: 6.9956\n",
      "Epoch 87/100\n",
      "1/1 [==============================] - 0s 29ms/step - loss: 6.9900 - mae: 6.9900\n",
      "Epoch 88/100\n",
      "1/1 [==============================] - 0s 10ms/step - loss: 6.9844 - mae: 6.9844\n",
      "Epoch 89/100\n",
      "1/1 [==============================] - 0s 11ms/step - loss: 6.9788 - mae: 6.9788\n",
      "Epoch 90/100\n",
      "1/1 [==============================] - 0s 10ms/step - loss: 6.9731 - mae: 6.9731\n",
      "Epoch 91/100\n",
      "1/1 [==============================] - 0s 8ms/step - loss: 6.9675 - mae: 6.9675\n",
      "Epoch 92/100\n",
      "1/1 [==============================] - 0s 8ms/step - loss: 6.9619 - mae: 6.9619\n",
      "Epoch 93/100\n",
      "1/1 [==============================] - 0s 8ms/step - loss: 6.9563 - mae: 6.9563\n",
      "Epoch 94/100\n",
      "1/1 [==============================] - 0s 10ms/step - loss: 6.9506 - mae: 6.9506\n",
      "Epoch 95/100\n",
      "1/1 [==============================] - 0s 11ms/step - loss: 6.9450 - mae: 6.9450\n",
      "Epoch 96/100\n",
      "1/1 [==============================] - 0s 11ms/step - loss: 6.9394 - mae: 6.9394\n",
      "Epoch 97/100\n",
      "1/1 [==============================] - 0s 9ms/step - loss: 6.9338 - mae: 6.9338\n",
      "Epoch 98/100\n",
      "1/1 [==============================] - 0s 8ms/step - loss: 6.9281 - mae: 6.9281\n",
      "Epoch 99/100\n",
      "1/1 [==============================] - 0s 7ms/step - loss: 6.9225 - mae: 6.9225\n",
      "Epoch 100/100\n",
      "1/1 [==============================] - 0s 9ms/step - loss: 6.9169 - mae: 6.9169\n"
     ]
    },
    {
     "data": {
      "text/plain": [
       "<keras.callbacks.History at 0x298b588f220>"
      ]
     },
     "execution_count": 11,
     "metadata": {},
     "output_type": "execute_result"
    }
   ],
   "source": [
    "# Rebuilding the model\n",
    "# 1. Create the model\n",
    "model = tf.keras.Sequential([\n",
    "    tf.keras.layers.Dense(1)\n",
    "])\n",
    "\n",
    "# 2. Compile the model\n",
    "model.compile(loss=tf.keras.losses.mae,\n",
    "              optimizer=tf.keras.optimizers.SGD(),\n",
    "              metrics=['mae'])\n",
    "\n",
    "# 3. Fit the model for longer\n",
    "model.fit(tf.expand_dims(X, axis=-1), y, epochs=100)"
   ]
  },
  {
   "cell_type": "code",
   "execution_count": 12,
   "metadata": {},
   "outputs": [
    {
     "data": {
      "text/plain": [
       "(<tf.Tensor: shape=(8,), dtype=float16, numpy=array([-7., -4., -1.,  2.,  5.,  8., 11., 14.], dtype=float16)>,\n",
       " <tf.Tensor: shape=(8,), dtype=float16, numpy=array([ 3.,  6.,  9., 12., 15., 18., 21., 24.], dtype=float16)>)"
      ]
     },
     "execution_count": 12,
     "metadata": {},
     "output_type": "execute_result"
    }
   ],
   "source": [
    "X, y"
   ]
  },
  {
   "cell_type": "code",
   "execution_count": 13,
   "metadata": {},
   "outputs": [
    {
     "name": "stdout",
     "output_type": "stream",
     "text": [
      "1/1 [==============================] - 0s 95ms/step\n"
     ]
    },
    {
     "data": {
      "text/plain": [
       "array([[47.042797]], dtype=float32)"
      ]
     },
     "execution_count": 13,
     "metadata": {},
     "output_type": "execute_result"
    }
   ],
   "source": [
    "model.predict([27.])"
   ]
  },
  {
   "cell_type": "code",
   "execution_count": 14,
   "metadata": {},
   "outputs": [
    {
     "name": "stdout",
     "output_type": "stream",
     "text": [
      "Epoch 1/100\n",
      "1/1 [==============================] - 1s 651ms/step - loss: 12.8047 - mae: 12.8047\n",
      "Epoch 2/100\n",
      "1/1 [==============================] - 0s 9ms/step - loss: 7.5033 - mae: 7.5033\n",
      "Epoch 3/100\n",
      "1/1 [==============================] - 0s 10ms/step - loss: 6.3804 - mae: 6.3804\n",
      "Epoch 4/100\n",
      "1/1 [==============================] - 0s 10ms/step - loss: 5.6500 - mae: 5.6500\n",
      "Epoch 5/100\n",
      "1/1 [==============================] - 0s 14ms/step - loss: 4.7572 - mae: 4.7572\n",
      "Epoch 6/100\n",
      "1/1 [==============================] - 0s 13ms/step - loss: 4.9174 - mae: 4.9174\n",
      "Epoch 7/100\n",
      "1/1 [==============================] - 0s 12ms/step - loss: 3.2404 - mae: 3.2404\n",
      "Epoch 8/100\n",
      "1/1 [==============================] - 0s 10ms/step - loss: 4.0593 - mae: 4.0593\n",
      "Epoch 9/100\n",
      "1/1 [==============================] - 0s 12ms/step - loss: 3.0151 - mae: 3.0151\n",
      "Epoch 10/100\n",
      "1/1 [==============================] - 0s 10ms/step - loss: 1.1185 - mae: 1.1185\n",
      "Epoch 11/100\n",
      "1/1 [==============================] - 0s 10ms/step - loss: 1.9116 - mae: 1.9116\n",
      "Epoch 12/100\n",
      "1/1 [==============================] - 0s 9ms/step - loss: 2.0060 - mae: 2.0060\n",
      "Epoch 13/100\n",
      "1/1 [==============================] - 0s 9ms/step - loss: 1.5601 - mae: 1.5601\n",
      "Epoch 14/100\n",
      "1/1 [==============================] - 0s 10ms/step - loss: 1.5870 - mae: 1.5870\n",
      "Epoch 15/100\n",
      "1/1 [==============================] - 0s 10ms/step - loss: 1.4263 - mae: 1.4263\n",
      "Epoch 16/100\n",
      "1/1 [==============================] - 0s 11ms/step - loss: 0.7023 - mae: 0.7023\n",
      "Epoch 17/100\n",
      "1/1 [==============================] - 0s 7ms/step - loss: 2.4826 - mae: 2.4826\n",
      "Epoch 18/100\n",
      "1/1 [==============================] - 0s 12ms/step - loss: 3.0097 - mae: 3.0097\n",
      "Epoch 19/100\n",
      "1/1 [==============================] - 0s 9ms/step - loss: 2.1008 - mae: 2.1008\n",
      "Epoch 20/100\n",
      "1/1 [==============================] - 0s 9ms/step - loss: 1.4898 - mae: 1.4898\n",
      "Epoch 21/100\n",
      "1/1 [==============================] - 0s 8ms/step - loss: 1.7519 - mae: 1.7519\n",
      "Epoch 22/100\n",
      "1/1 [==============================] - 0s 12ms/step - loss: 0.8983 - mae: 0.8983\n",
      "Epoch 23/100\n",
      "1/1 [==============================] - 0s 7ms/step - loss: 1.0454 - mae: 1.0454\n",
      "Epoch 24/100\n",
      "1/1 [==============================] - 0s 9ms/step - loss: 1.4818 - mae: 1.4818\n",
      "Epoch 25/100\n",
      "1/1 [==============================] - 0s 9ms/step - loss: 0.8119 - mae: 0.8119\n",
      "Epoch 26/100\n",
      "1/1 [==============================] - 0s 8ms/step - loss: 1.1429 - mae: 1.1429\n",
      "Epoch 27/100\n",
      "1/1 [==============================] - 0s 8ms/step - loss: 0.7771 - mae: 0.7771\n",
      "Epoch 28/100\n",
      "1/1 [==============================] - 0s 10ms/step - loss: 0.5494 - mae: 0.5494\n",
      "Epoch 29/100\n",
      "1/1 [==============================] - 0s 9ms/step - loss: 0.4320 - mae: 0.4320\n",
      "Epoch 30/100\n",
      "1/1 [==============================] - 0s 11ms/step - loss: 1.3254 - mae: 1.3254\n",
      "Epoch 31/100\n",
      "1/1 [==============================] - 0s 13ms/step - loss: 1.3910 - mae: 1.3910\n",
      "Epoch 32/100\n",
      "1/1 [==============================] - 0s 9ms/step - loss: 0.4562 - mae: 0.4562\n",
      "Epoch 33/100\n",
      "1/1 [==============================] - 0s 8ms/step - loss: 1.8194 - mae: 1.8194\n",
      "Epoch 34/100\n",
      "1/1 [==============================] - 0s 10ms/step - loss: 2.2465 - mae: 2.2465\n",
      "Epoch 35/100\n",
      "1/1 [==============================] - 0s 10ms/step - loss: 1.4669 - mae: 1.4669\n",
      "Epoch 36/100\n",
      "1/1 [==============================] - 0s 9ms/step - loss: 0.7168 - mae: 0.7168\n",
      "Epoch 37/100\n",
      "1/1 [==============================] - 0s 8ms/step - loss: 1.3313 - mae: 1.3313\n",
      "Epoch 38/100\n",
      "1/1 [==============================] - 0s 9ms/step - loss: 1.0170 - mae: 1.0170\n",
      "Epoch 39/100\n",
      "1/1 [==============================] - 0s 9ms/step - loss: 0.2520 - mae: 0.2520\n",
      "Epoch 40/100\n",
      "1/1 [==============================] - 0s 14ms/step - loss: 0.4437 - mae: 0.4437\n",
      "Epoch 41/100\n",
      "1/1 [==============================] - 0s 9ms/step - loss: 0.4636 - mae: 0.4636\n",
      "Epoch 42/100\n",
      "1/1 [==============================] - 0s 9ms/step - loss: 0.2296 - mae: 0.2296\n",
      "Epoch 43/100\n",
      "1/1 [==============================] - 0s 10ms/step - loss: 0.9839 - mae: 0.9839\n",
      "Epoch 44/100\n",
      "1/1 [==============================] - 0s 9ms/step - loss: 1.0146 - mae: 1.0146\n",
      "Epoch 45/100\n",
      "1/1 [==============================] - 0s 11ms/step - loss: 0.1243 - mae: 0.1243\n",
      "Epoch 46/100\n",
      "1/1 [==============================] - 0s 9ms/step - loss: 0.4697 - mae: 0.4697\n",
      "Epoch 47/100\n",
      "1/1 [==============================] - 0s 10ms/step - loss: 0.2723 - mae: 0.2723\n",
      "Epoch 48/100\n",
      "1/1 [==============================] - 0s 8ms/step - loss: 0.2494 - mae: 0.2494\n",
      "Epoch 49/100\n",
      "1/1 [==============================] - 0s 9ms/step - loss: 0.5321 - mae: 0.5321\n",
      "Epoch 50/100\n",
      "1/1 [==============================] - 0s 9ms/step - loss: 0.2077 - mae: 0.2077\n",
      "Epoch 51/100\n",
      "1/1 [==============================] - 0s 10ms/step - loss: 1.1586 - mae: 1.1586\n",
      "Epoch 52/100\n",
      "1/1 [==============================] - 0s 9ms/step - loss: 1.3336 - mae: 1.3336\n",
      "Epoch 53/100\n",
      "1/1 [==============================] - 0s 8ms/step - loss: 0.6366 - mae: 0.6366\n",
      "Epoch 54/100\n",
      "1/1 [==============================] - 0s 11ms/step - loss: 0.9794 - mae: 0.9794\n",
      "Epoch 55/100\n",
      "1/1 [==============================] - 0s 9ms/step - loss: 1.4100 - mae: 1.4100\n",
      "Epoch 56/100\n",
      "1/1 [==============================] - 0s 8ms/step - loss: 0.7244 - mae: 0.7244\n",
      "Epoch 57/100\n",
      "1/1 [==============================] - 0s 8ms/step - loss: 0.8422 - mae: 0.8422\n",
      "Epoch 58/100\n",
      "1/1 [==============================] - 0s 10ms/step - loss: 1.3106 - mae: 1.3106\n",
      "Epoch 59/100\n",
      "1/1 [==============================] - 0s 8ms/step - loss: 0.9107 - mae: 0.9107\n",
      "Epoch 60/100\n",
      "1/1 [==============================] - 0s 12ms/step - loss: 0.3761 - mae: 0.3761\n",
      "Epoch 61/100\n",
      "1/1 [==============================] - 0s 11ms/step - loss: 0.5783 - mae: 0.5783\n",
      "Epoch 62/100\n",
      "1/1 [==============================] - 0s 12ms/step - loss: 0.1827 - mae: 0.1827\n",
      "Epoch 63/100\n",
      "1/1 [==============================] - 0s 9ms/step - loss: 0.0588 - mae: 0.0588\n",
      "Epoch 64/100\n",
      "1/1 [==============================] - 0s 9ms/step - loss: 0.5837 - mae: 0.5837\n",
      "Epoch 65/100\n",
      "1/1 [==============================] - 0s 10ms/step - loss: 0.3337 - mae: 0.3337\n",
      "Epoch 66/100\n",
      "1/1 [==============================] - 0s 8ms/step - loss: 0.8823 - mae: 0.8823\n",
      "Epoch 67/100\n",
      "1/1 [==============================] - 0s 9ms/step - loss: 0.9117 - mae: 0.9117\n",
      "Epoch 68/100\n",
      "1/1 [==============================] - 0s 9ms/step - loss: 0.1235 - mae: 0.1235\n",
      "Epoch 69/100\n",
      "1/1 [==============================] - 0s 9ms/step - loss: 0.7094 - mae: 0.7094\n",
      "Epoch 70/100\n",
      "1/1 [==============================] - 0s 10ms/step - loss: 0.5657 - mae: 0.5657\n",
      "Epoch 71/100\n",
      "1/1 [==============================] - 0s 8ms/step - loss: 0.5561 - mae: 0.5561\n",
      "Epoch 72/100\n",
      "1/1 [==============================] - 0s 8ms/step - loss: 0.5663 - mae: 0.5663\n",
      "Epoch 73/100\n",
      "1/1 [==============================] - 0s 9ms/step - loss: 0.3341 - mae: 0.3341\n",
      "Epoch 74/100\n",
      "1/1 [==============================] - 0s 10ms/step - loss: 0.2834 - mae: 0.2834\n",
      "Epoch 75/100\n",
      "1/1 [==============================] - 0s 10ms/step - loss: 0.6717 - mae: 0.6717\n",
      "Epoch 76/100\n",
      "1/1 [==============================] - 0s 18ms/step - loss: 0.5490 - mae: 0.5490\n",
      "Epoch 77/100\n",
      "1/1 [==============================] - 0s 10ms/step - loss: 0.4534 - mae: 0.4534\n",
      "Epoch 78/100\n",
      "1/1 [==============================] - 0s 11ms/step - loss: 0.4937 - mae: 0.4937\n",
      "Epoch 79/100\n",
      "1/1 [==============================] - 0s 12ms/step - loss: 0.3136 - mae: 0.3136\n",
      "Epoch 80/100\n",
      "1/1 [==============================] - 0s 9ms/step - loss: 0.1636 - mae: 0.1636\n",
      "Epoch 81/100\n",
      "1/1 [==============================] - 0s 19ms/step - loss: 0.8224 - mae: 0.8224\n",
      "Epoch 82/100\n",
      "1/1 [==============================] - 0s 9ms/step - loss: 0.8906 - mae: 0.8906\n",
      "Epoch 83/100\n",
      "1/1 [==============================] - 0s 9ms/step - loss: 0.1567 - mae: 0.1567\n",
      "Epoch 84/100\n",
      "1/1 [==============================] - 0s 9ms/step - loss: 1.4237 - mae: 1.4237\n",
      "Epoch 85/100\n",
      "1/1 [==============================] - 0s 9ms/step - loss: 1.9101 - mae: 1.9101\n",
      "Epoch 86/100\n",
      "1/1 [==============================] - 0s 12ms/step - loss: 1.3671 - mae: 1.3671\n",
      "Epoch 87/100\n",
      "1/1 [==============================] - 0s 13ms/step - loss: 0.1558 - mae: 0.1558\n",
      "Epoch 88/100\n",
      "1/1 [==============================] - 0s 10ms/step - loss: 0.8631 - mae: 0.8631\n",
      "Epoch 89/100\n",
      "1/1 [==============================] - 0s 9ms/step - loss: 0.8285 - mae: 0.8285\n",
      "Epoch 90/100\n",
      "1/1 [==============================] - 0s 9ms/step - loss: 0.1201 - mae: 0.1201\n",
      "Epoch 91/100\n",
      "1/1 [==============================] - 0s 9ms/step - loss: 0.6291 - mae: 0.6291\n",
      "Epoch 92/100\n",
      "1/1 [==============================] - 0s 11ms/step - loss: 0.4678 - mae: 0.4678\n",
      "Epoch 93/100\n",
      "1/1 [==============================] - 0s 10ms/step - loss: 0.8417 - mae: 0.8417\n",
      "Epoch 94/100\n",
      "1/1 [==============================] - 0s 7ms/step - loss: 0.9531 - mae: 0.9531\n",
      "Epoch 95/100\n",
      "1/1 [==============================] - 0s 8ms/step - loss: 0.2929 - mae: 0.2929\n",
      "Epoch 96/100\n",
      "1/1 [==============================] - 0s 9ms/step - loss: 1.1675 - mae: 1.1675\n",
      "Epoch 97/100\n",
      "1/1 [==============================] - 0s 8ms/step - loss: 1.5695 - mae: 1.5695\n",
      "Epoch 98/100\n",
      "1/1 [==============================] - 0s 10ms/step - loss: 0.9715 - mae: 0.9715\n",
      "Epoch 99/100\n",
      "1/1 [==============================] - 0s 10ms/step - loss: 0.5498 - mae: 0.5498\n",
      "Epoch 100/100\n",
      "1/1 [==============================] - 0s 9ms/step - loss: 0.9485 - mae: 0.9485\n"
     ]
    },
    {
     "data": {
      "text/plain": [
       "<keras.callbacks.History at 0x298b59547c0>"
      ]
     },
     "execution_count": 14,
     "metadata": {},
     "output_type": "execute_result"
    }
   ],
   "source": [
    "# Rebuilding the model with Adam optimizer\n",
    "# 1. Creating a model\n",
    "model = tf.keras.Sequential([\n",
    "    tf.keras.layers.Dense(50, activation=None),\n",
    "    tf.keras.layers.Dense(1)\n",
    "])\n",
    "\n",
    "# 2. Compiling a model\n",
    "model.compile(loss=tf.keras.losses.mae,\n",
    "              optimizer=tf.keras.optimizers.Adam(learning_rate=0.1),\n",
    "              metrics=['mae'])\n",
    "\n",
    "# 3. Fitting the model\n",
    "model.fit(tf.expand_dims(X, axis=-1), y, epochs=100)"
   ]
  },
  {
   "cell_type": "code",
   "execution_count": 15,
   "metadata": {},
   "outputs": [
    {
     "name": "stdout",
     "output_type": "stream",
     "text": [
      "1/1 [==============================] - 0s 134ms/step\n"
     ]
    },
    {
     "data": {
      "text/plain": [
       "array([[36.209957]], dtype=float32)"
      ]
     },
     "execution_count": 15,
     "metadata": {},
     "output_type": "execute_result"
    }
   ],
   "source": [
    "model.predict([29.])"
   ]
  },
  {
   "attachments": {},
   "cell_type": "markdown",
   "metadata": {},
   "source": [
    "## Evaluating a model\n",
    "\n",
    "In practice, a typical workflow you will go through when building neural networks is:\n",
    "\n",
    "```\n",
    "Build a model -> fit it -> evaluate it -> tweak it -> repeat\n",
    "```\n",
    "\n",
    "Tweaking can be done on the following _hyperparameters_:\n",
    "* Adding layers\n",
    "* Increase the number of hidden units\n",
    "* Change the activation functions\n",
    "* Change the optimization function\n",
    "* Change the learning rate\n",
    "* Fitting on more data\n",
    "* Fitting for longer"
   ]
  },
  {
   "cell_type": "code",
   "execution_count": 16,
   "metadata": {},
   "outputs": [
    {
     "data": {
      "text/plain": [
       "array([-98.9316164 , -97.02949206, -92.26937378, -87.2210631 ,\n",
       "       -85.93950838, -80.61527131, -73.6021171 , -71.11413612,\n",
       "       -68.50723291, -62.9238201 , -60.86328964, -57.08286771,\n",
       "       -52.26734842, -45.79222667, -44.73464112, -38.23109553,\n",
       "       -36.10406783, -32.7383979 , -28.19769537, -24.11725077,\n",
       "       -21.7571586 , -15.71721952, -10.45182532,  -6.99264355,\n",
       "        -4.56134526,   1.32606786,   3.12495097,   8.25022445,\n",
       "        11.52984958,  16.32349281,  20.37873843,  24.41676951,\n",
       "        28.13903439,  31.85882953,  36.28485803,  40.68625515,\n",
       "        44.69034153,  45.89200909,  50.77850924,  55.98874174,\n",
       "        61.7688017 ,  63.4973691 ,  68.21425901,  71.56242709,\n",
       "        74.48108424,  80.3261676 ,  84.49645191,  90.157702  ,\n",
       "        92.19952232,  97.80705907])"
      ]
     },
     "execution_count": 16,
     "metadata": {},
     "output_type": "execute_result"
    }
   ],
   "source": [
    "# Make a bigger dataset\n",
    "X = np.arange(-100.0, 100.0, 4) + np.random.normal(loc=0.0, scale=1.0, size=(50,))\n",
    "X"
   ]
  },
  {
   "cell_type": "code",
   "execution_count": 17,
   "metadata": {},
   "outputs": [
    {
     "data": {
      "text/plain": [
       "array([-94.50183608, -84.82704606, -70.2698362 , -73.13644257,\n",
       "       -72.61691316, -68.83476965, -62.45019242, -43.91765146,\n",
       "       -71.97120705, -64.63231061, -61.41064521, -35.65609714,\n",
       "       -42.03396252, -22.44135503, -47.5367901 , -48.56116447,\n",
       "       -27.72875797, -32.60880498, -15.99221621, -17.21508915,\n",
       "       -11.31799371,   5.35182832, -10.48149425,  27.36173619,\n",
       "         2.69420328,  24.12546083,  22.91252032,   5.08380876,\n",
       "        34.37652152,  46.1683072 ,  35.80618958,  23.68431659,\n",
       "        37.17056673,  43.70640615,  42.85338401,  51.27803291,\n",
       "        55.50238785,  69.40350632,  96.21091654,  69.9129783 ,\n",
       "        74.67189858,  77.2985927 ,  79.43566711,  86.31008257,\n",
       "        94.88252387,  87.4708799 ,  98.91189065,  82.88339365,\n",
       "        94.39685798, 103.8247813 ])"
      ]
     },
     "execution_count": 17,
     "metadata": {},
     "output_type": "execute_result"
    }
   ],
   "source": [
    "# Make labels for the dataset\n",
    "y = X + np.random.normal(loc=10.0, scale=10.0, size=(50,))\n",
    "y"
   ]
  },
  {
   "cell_type": "code",
   "execution_count": 18,
   "metadata": {},
   "outputs": [
    {
     "data": {
      "text/plain": [
       "<matplotlib.collections.PathCollection at 0x298b6a61900>"
      ]
     },
     "execution_count": 18,
     "metadata": {},
     "output_type": "execute_result"
    },
    {
     "data": {
      "image/png": "[encoded data removed]",
      "text/plain": [
       "<Figure size 640x480 with 1 Axes>"
      ]
     },
     "metadata": {},
     "output_type": "display_data"
    }
   ],
   "source": [
    "plt.scatter(X, y)"
   ]
  },
  {
   "attachments": {},
   "cell_type": "markdown",
   "metadata": {},
   "source": [
    "### The 3 sets...\n",
    "\n",
    "* **Training set** - The model learns from this data (70-80%)\n",
    "* **Validation set** - The model gets tuned on this data, which is typically 10-15% of data.\n",
    "* **Test set** - the model gets evaluated on this data to test how well it performs, typically 10-15 %"
   ]
  },
  {
   "cell_type": "code",
   "execution_count": 19,
   "metadata": {},
   "outputs": [
    {
     "name": "stdout",
     "output_type": "stream",
     "text": [
      "[35 37 18 21 16  1 47 48 31 15 39 12 33  9  7  6 17 34  8 49 23 32  3 30\n",
      "  2 24 10 25 42 41 14  4 38 27 45  0 44 13 26 20 11 29 28 22 40 46  5 36\n",
      " 43 19]\n"
     ]
    }
   ],
   "source": [
    "# Shuffle a range of indices\n",
    "shuffled_indices = np.arange(len(X))\n",
    "np.random.shuffle(shuffled_indices)\n",
    "print(shuffled_indices)"
   ]
  },
  {
   "cell_type": "code",
   "execution_count": 20,
   "metadata": {},
   "outputs": [
    {
     "data": {
      "text/plain": [
       "40"
      ]
     },
     "execution_count": 20,
     "metadata": {},
     "output_type": "execute_result"
    }
   ],
   "source": [
    "# Find the last index of 80% of the data\n",
    "eighty = int(np.ceil(len(shuffled_indices) * 4 / 5))\n",
    "eighty"
   ]
  },
  {
   "cell_type": "code",
   "execution_count": 21,
   "metadata": {},
   "outputs": [],
   "source": [
    "X_train = tf.constant(X[shuffled_indices[:eighty]])\n",
    "y_train = tf.constant(y[shuffled_indices[:eighty]])\n",
    "X_test = tf.constant(X[shuffled_indices[eighty:]])\n",
    "y_test = tf.constant(y[shuffled_indices[eighty:]])"
   ]
  },
  {
   "cell_type": "markdown",
   "metadata": {},
   "source": [
    "### Visualizing the data"
   ]
  },
  {
   "cell_type": "code",
   "execution_count": 22,
   "metadata": {},
   "outputs": [
    {
     "data": {
      "text/plain": [
       "<matplotlib.collections.PathCollection at 0x298b6ad2e60>"
      ]
     },
     "execution_count": 22,
     "metadata": {},
     "output_type": "execute_result"
    },
    {
     "data": {
      "image/png": "[encoded data removed]",
      "text/plain": [
       "<Figure size 1000x700 with 1 Axes>"
      ]
     },
     "metadata": {},
     "output_type": "display_data"
    }
   ],
   "source": [
    "plt.figure(figsize=(10, 7))\n",
    "# Plot training data in blue\n",
    "plt.scatter(X_train, y_train, c='b', label='Training Data')\n",
    "# Plot test data in green\n",
    "plt.scatter(X_test, y_test, c='g', label='Testing Data')"
   ]
  },
  {
   "cell_type": "code",
   "execution_count": 23,
   "metadata": {},
   "outputs": [],
   "source": [
    "# 1. Create a model\n",
    "model = tf.keras.Sequential([\n",
    "    tf.keras.layers.Dense(1)\n",
    "])\n",
    "\n",
    "# 2. Compile the model\n",
    "model.compile(loss=tf.keras.losses.mae,\n",
    "              optimizer=tf.keras.optimizers.SGD(),\n",
    "              metrics=['mae'])\n",
    "\n",
    "# 3. Fit the model\n",
    "# model.fit(X_train, y_train, epochs=100, verbose=1)"
   ]
  },
  {
   "cell_type": "markdown",
   "metadata": {},
   "source": [
    "### Visualizing the model"
   ]
  },
  {
   "cell_type": "code",
   "execution_count": 24,
   "metadata": {},
   "outputs": [
    {
     "ename": "ValueError",
     "evalue": "This model has not yet been built. Build the model first by calling `build()` or by calling the model on a batch of data.",
     "output_type": "error",
     "traceback": [
      "\u001b[1;31m---------------------------------------------------------------------------\u001b[0m",
      "\u001b[1;31mValueError\u001b[0m                                Traceback (most recent call last)",
      "\u001b[1;32mc:\\Users\\igari\\OneDrive\\Python\\Tensorsss\\01_neural_network_regression_with_tensorflow.ipynb Cell 34\u001b[0m in \u001b[0;36m1\n\u001b[1;32m----> <a href='vscode-notebook-cell:/c%3A/Users/igari/OneDrive/Python/Tensorsss/01_neural_network_regression_with_tensorflow.ipynb#X45sZmlsZQ%3D%3D?line=0'>1</a>\u001b[0m model\u001b[39m.\u001b[39;49msummary()\n",
      "File \u001b[1;32mc:\\Users\\igari\\AppData\\Local\\Programs\\Python\\Python310\\lib\\site-packages\\keras\\engine\\training.py:3292\u001b[0m, in \u001b[0;36mModel.summary\u001b[1;34m(self, line_length, positions, print_fn, expand_nested, show_trainable, layer_range)\u001b[0m\n\u001b[0;32m   3262\u001b[0m \u001b[39m\"\"\"Prints a string summary of the network.\u001b[39;00m\n\u001b[0;32m   3263\u001b[0m \n\u001b[0;32m   3264\u001b[0m \u001b[39mArgs:\u001b[39;00m\n\u001b[1;32m   (...)\u001b[0m\n\u001b[0;32m   3289\u001b[0m \u001b[39m    ValueError: if `summary()` is called before the model is built.\u001b[39;00m\n\u001b[0;32m   3290\u001b[0m \u001b[39m\"\"\"\u001b[39;00m\n\u001b[0;32m   3291\u001b[0m \u001b[39mif\u001b[39;00m \u001b[39mnot\u001b[39;00m \u001b[39mself\u001b[39m\u001b[39m.\u001b[39mbuilt:\n\u001b[1;32m-> 3292\u001b[0m     \u001b[39mraise\u001b[39;00m \u001b[39mValueError\u001b[39;00m(\n\u001b[0;32m   3293\u001b[0m         \u001b[39m\"\u001b[39m\u001b[39mThis model has not yet been built. \u001b[39m\u001b[39m\"\u001b[39m\n\u001b[0;32m   3294\u001b[0m         \u001b[39m\"\u001b[39m\u001b[39mBuild the model first by calling `build()` or by calling \u001b[39m\u001b[39m\"\u001b[39m\n\u001b[0;32m   3295\u001b[0m         \u001b[39m\"\u001b[39m\u001b[39mthe model on a batch of data.\u001b[39m\u001b[39m\"\u001b[39m\n\u001b[0;32m   3296\u001b[0m     )\n\u001b[0;32m   3297\u001b[0m layer_utils\u001b[39m.\u001b[39mprint_summary(\n\u001b[0;32m   3298\u001b[0m     \u001b[39mself\u001b[39m,\n\u001b[0;32m   3299\u001b[0m     line_length\u001b[39m=\u001b[39mline_length,\n\u001b[1;32m   (...)\u001b[0m\n\u001b[0;32m   3304\u001b[0m     layer_range\u001b[39m=\u001b[39mlayer_range,\n\u001b[0;32m   3305\u001b[0m )\n",
      "\u001b[1;31mValueError\u001b[0m: This model has not yet been built. Build the model first by calling `build()` or by calling the model on a batch of data."
     ]
    }
   ],
   "source": [
    "model.summary()"
   ]
  },
  {
   "cell_type": "code",
   "execution_count": 40,
   "metadata": {},
   "outputs": [],
   "source": [
    "# Let's create a model which builds automatically by defining the input_shape in the first layer\n",
    "tf.random.set_seed(42)\n",
    "\n",
    "# 1. Create a model\n",
    "model = tf.keras.Sequential([\n",
    "    tf.keras.layers.Dense(50, input_shape=(1,), name='input_layer'),\n",
    "    tf.keras.layers.Dense(1, name='output_layer')\n",
    "], name='One_of_many')\n",
    "\n",
    "# 2. Compile the model\n",
    "model.compile(loss=tf.keras.losses.mae,\n",
    "              optimizer=tf.keras.optimizers.Adam(learning_rate=0.01),\n",
    "              metrics=['mae'])"
   ]
  },
  {
   "cell_type": "code",
   "execution_count": 26,
   "metadata": {},
   "outputs": [
    {
     "name": "stdout",
     "output_type": "stream",
     "text": [
      "Model: \"One_of_many\"\n",
      "_________________________________________________________________\n",
      " Layer (type)                Output Shape              Param #   \n",
      "=================================================================\n",
      " input_layer (Dense)         (None, 50)                100       \n",
      "                                                                 \n",
      " output_layer (Dense)        (None, 1)                 51        \n",
      "                                                                 \n",
      "=================================================================\n",
      "Total params: 151\n",
      "Trainable params: 151\n",
      "Non-trainable params: 0\n",
      "_________________________________________________________________\n"
     ]
    }
   ],
   "source": [
    "model.summary()"
   ]
  },
  {
   "attachments": {},
   "cell_type": "markdown",
   "metadata": {},
   "source": [
    "* Total params - total number of parameters in the model.\n",
    "* Trainable params - the parameters (patterns) that the model can update as it trains.\n",
    "* Non-trainable params - these parameters aren't updated during training (this is typical when you bring in already learned patterns or parameters from other models during **transfer learning**)"
   ]
  },
  {
   "attachments": {
    "image.png": {
     "image/png": "[encoded data removed]"
    }
   },
   "cell_type": "markdown",
   "metadata": {},
   "source": [
    "![image.png](attachment:image.png)"
   ]
  },
  {
   "cell_type": "code",
   "execution_count": 41,
   "metadata": {},
   "outputs": [
    {
     "data": {
      "text/plain": [
       "<keras.callbacks.History at 0x298b96ea380>"
      ]
     },
     "execution_count": 41,
     "metadata": {},
     "output_type": "execute_result"
    }
   ],
   "source": [
    "model.fit(X_train, y_train, epochs=100, verbose=0)"
   ]
  },
  {
   "cell_type": "code",
   "execution_count": null,
   "metadata": {},
   "outputs": [],
   "source": [
    "from tensorflow.keras.utils import plot_model\n",
    "\n",
    "plot_model(model=model, show_shapes=True)"
   ]
  },
  {
   "attachments": {},
   "cell_type": "markdown",
   "metadata": {},
   "source": [
    "### Visualizing model's predictions\n",
    "\n",
    "To visualize predictions, it's a good idea to plot them against the ground truth labels.\n",
    "\n",
    "Often, you'll see this in the form of `y_test` or `y_true` versus `y_pred` (ground truth versus your model's predictions)."
   ]
  },
  {
   "cell_type": "code",
   "execution_count": 29,
   "metadata": {},
   "outputs": [
    {
     "name": "stdout",
     "output_type": "stream",
     "text": [
      "1/1 [==============================] - 0s 62ms/step\n"
     ]
    },
    {
     "data": {
      "text/plain": [
       "array([[-47.99408   ],\n",
       "       [ 27.964748  ],\n",
       "       [ 23.004421  ],\n",
       "       [  0.25840652],\n",
       "       [ 74.990265  ],\n",
       "       [ 98.50822   ],\n",
       "       [-72.34475   ],\n",
       "       [ 57.31796   ],\n",
       "       [ 85.12443   ],\n",
       "       [-13.882189  ]], dtype=float32)"
      ]
     },
     "execution_count": 29,
     "metadata": {},
     "output_type": "execute_result"
    }
   ],
   "source": [
    "# Make the predictions\n",
    "y_pred = model.predict(X_test)\n",
    "y_pred"
   ]
  },
  {
   "cell_type": "code",
   "execution_count": 30,
   "metadata": {},
   "outputs": [],
   "source": [
    "# Let's create a plotting function\n",
    "def plot_predictions(train_data=X_train,\n",
    "                     train_labels=y_train,\n",
    "                     test_data=X_test,\n",
    "                     test_labels=y_test,\n",
    "                     predictions=y_pred):\n",
    "    '''Plots training data, test data and compares predictions to ground truth data.'''\n",
    "    plt.figure(figsize=(10, 7))\n",
    "    # Plot training data in blue\n",
    "    plt.scatter(train_data, train_labels, c='b', label='Training Data')\n",
    "    # Plot test data in green\n",
    "    plt.scatter(test_data, test_labels, c='g', label='Test Data')\n",
    "    # Plot predictions in red\n",
    "    plt.scatter(test_data, predictions, c='r', label='Predicted Data', marker='^')\n",
    "    # Show the legend\n",
    "    plt.legend()"
   ]
  },
  {
   "cell_type": "code",
   "execution_count": 31,
   "metadata": {},
   "outputs": [
    {
     "data": {
      "image/png": "[encoded data removed]",
      "text/plain": [
       "<Figure size 1000x700 with 1 Axes>"
      ]
     },
     "metadata": {},
     "output_type": "display_data"
    }
   ],
   "source": [
    "plot_predictions()"
   ]
  },
  {
   "attachments": {},
   "cell_type": "markdown",
   "metadata": {},
   "source": [
    "### Evaluating our model's predictions with regression evaluation metrics\n",
    "\n",
    "Depending on the problem you're working on, there will be different evaluation metrics to evaluate your model's performance.\n",
    "\n",
    "Since we're working on a regression, two of the main metrics:\n",
    "* MAE - mean absolute error, \"on average\" how wrong is each of my models predictions'\n",
    "* MSE - mean square error, \"square the average error\""
   ]
  },
  {
   "attachments": {},
   "cell_type": "markdown",
   "metadata": {},
   "source": [
    "_**MAE - Mean Absolute Error**_\n",
    "\n",
    "$$\n",
    "MAE = \\frac{\\sum_{i=1}^{n}{|y_i-x_i|}}{n}=\\frac{\\sum_{i=1}^{n}{|e_i|}}{n}\n",
    "$$\n",
    "\n",
    "Where $y_i$ is the prediction and $x_i$ is the true value.\n",
    "\n",
    "`loss = mean(abs(y_true-y_pred), axis=-1)`\n",
    "`tf.keras.losses.MAE()`\n",
    "`tf.metrics.mean_absolute_error()`\n",
    "\n",
    "- Great starter metric for any regression problem.\n",
    "\n",
    "_**MSE - Mean Square Error**_\n",
    "\n",
    "$$\n",
    "MSE = \\frac{1}{n}\\sum_{n=1}^{n}{Y_i-\\hat{Y_i}}^2\n",
    "$$\n",
    "\n",
    "Where $\\hat{Y_i}$ is the predicted value\n",
    "\n",
    "`loss = mean(sum((y_true-y_pred)**2), axis=-1)`\n",
    "`tf.keras.losses.MSE()`\n",
    "`tf.metrics.mean_square_error()`\n",
    "\n",
    "- When larger errors are more significant than smaller ones (because of the squaring of the $e_i$).\n",
    "\n",
    "_**Huber**_\n",
    "\n",
    "$$\n",
    "L_{\\delta}(y, f(x)) = \\begin{cases}\\frac{1}{2}(y-f(x))^2 \\qquad\\quad for |y-f(x)| \\leq \\delta \\\\ \\delta|y-f(x)|-\\frac{1}{2}\\delta^2 \\quad otherwise. \\end{cases}\n",
    "$$\n",
    "\n",
    "`tf.keras.losses.Huber()`\n",
    "\n",
    "- Combination of MSE and MAE. Less sensitive to outliers than MSE."
   ]
  },
  {
   "cell_type": "code",
   "execution_count": 32,
   "metadata": {},
   "outputs": [
    {
     "name": "stdout",
     "output_type": "stream",
     "text": [
      "1/1 [==============================] - 0s 262ms/step - loss: 6.3220 - mae: 6.3220\n"
     ]
    },
    {
     "data": {
      "text/plain": [
       "[6.321970462799072, 6.321970462799072]"
      ]
     },
     "execution_count": 32,
     "metadata": {},
     "output_type": "execute_result"
    }
   ],
   "source": [
    "# Evaluate the model on the test set\n",
    "model.evaluate(X_test, y_test)"
   ]
  },
  {
   "cell_type": "code",
   "execution_count": 33,
   "metadata": {},
   "outputs": [
    {
     "data": {
      "text/plain": [
       "<tf.Tensor: shape=(10,), dtype=float32, numpy=\n",
       "array([78.53758 , 47.219902, 48.211967, 52.76117 , 55.66319 , 72.213585,\n",
       "       98.72011 , 48.530594, 61.74369 , 56.26943 ], dtype=float32)>"
      ]
     },
     "execution_count": 33,
     "metadata": {},
     "output_type": "execute_result"
    }
   ],
   "source": [
    "# Calculate the MAE\n",
    "mae = tf.metrics.mean_absolute_error(y_true=y_test,\n",
    "                                     y_pred=y_pred)\n",
    "mae"
   ]
  },
  {
   "cell_type": "code",
   "execution_count": 34,
   "metadata": {},
   "outputs": [
    {
     "data": {
      "text/plain": [
       "((10, 1), TensorShape([10]))"
      ]
     },
     "execution_count": 34,
     "metadata": {},
     "output_type": "execute_result"
    }
   ],
   "source": [
    "y_pred.shape, y_test.shape"
   ]
  },
  {
   "cell_type": "code",
   "execution_count": 35,
   "metadata": {},
   "outputs": [
    {
     "data": {
      "text/plain": [
       "(10,)"
      ]
     },
     "execution_count": 35,
     "metadata": {},
     "output_type": "execute_result"
    }
   ],
   "source": [
    "y_pred.flatten().shape\n",
    "# or tf.squeeze()"
   ]
  },
  {
   "cell_type": "code",
   "execution_count": 36,
   "metadata": {},
   "outputs": [
    {
     "data": {
      "text/plain": [
       "<tf.Tensor: shape=(), dtype=float32, numpy=6.321969>"
      ]
     },
     "execution_count": 36,
     "metadata": {},
     "output_type": "execute_result"
    }
   ],
   "source": [
    "mae = tf.metrics.mean_absolute_error(y_true=y_test,\n",
    "                                     y_pred=y_pred.flatten())\n",
    "mae"
   ]
  },
  {
   "cell_type": "code",
   "execution_count": 37,
   "metadata": {},
   "outputs": [
    {
     "data": {
      "text/plain": [
       "<tf.Tensor: shape=(), dtype=float32, numpy=75.66601>"
      ]
     },
     "execution_count": 37,
     "metadata": {},
     "output_type": "execute_result"
    }
   ],
   "source": [
    "mse = tf.metrics.mean_squared_error(y_true=y_test,\n",
    "                                    y_pred=y_pred.flatten())\n",
    "mse"
   ]
  },
  {
   "cell_type": "code",
   "execution_count": 47,
   "metadata": {},
   "outputs": [],
   "source": [
    "def mae(y_true, y_pred):\n",
    "    return tf.metrics.mean_absolute_error(y_true=y_true,\n",
    "                                          y_pred=tf.squeeze(y_pred))\n",
    "\n",
    "\n",
    "def mse(y_true, y_pred):\n",
    "    return tf.metrics.mean_squared_error(y_true=y_true,\n",
    "                                         y_pred=tf.squeeze(y_pred))"
   ]
  },
  {
   "attachments": {},
   "cell_type": "markdown",
   "metadata": {},
   "source": [
    "### Running experiment to improve our model\n",
    "\n",
    "1. Get more data\n",
    "2. Make your model larger\n",
    "3. Train for longer"
   ]
  },
  {
   "attachments": {},
   "cell_type": "markdown",
   "metadata": {},
   "source": [
    "Let's do three modelling experiments\n",
    "\n",
    "1. `model_1` - same as the original, 1 layer, trained for 100 epochs\n",
    "2. `model_2` - 2 layers, trained for 100 epochs\n",
    "3. `model_3` - 2 layers, trained for 500 epochs"
   ]
  },
  {
   "cell_type": "code",
   "execution_count": 44,
   "metadata": {},
   "outputs": [
    {
     "data": {
      "text/plain": [
       "<keras.callbacks.History at 0x298b9bde650>"
      ]
     },
     "execution_count": 44,
     "metadata": {},
     "output_type": "execute_result"
    }
   ],
   "source": [
    "# model_1\n",
    "# 1. Create the model\n",
    "model_1 = tf.keras.Sequential([\n",
    "    tf.keras.layers.Dense(1)\n",
    "])\n",
    "\n",
    "# 2. Compile the model_1\n",
    "model_1.compile(loss=tf.keras.losses.mae,\n",
    "                optimizer=tf.keras.optimizers.SGD(),\n",
    "                metrics=['mae'])\n",
    "\n",
    "# 3. Fit the model_1\n",
    "model_1.fit(tf.expand_dims(X_train, axis=-1), y_train, epochs=100, verbose=0)"
   ]
  },
  {
   "cell_type": "code",
   "execution_count": 45,
   "metadata": {},
   "outputs": [
    {
     "name": "stdout",
     "output_type": "stream",
     "text": [
      "WARNING:tensorflow:5 out of the last 5 calls to <function Model.make_predict_function.<locals>.predict_function at 0x00000298B9B48550> triggered tf.function retracing. Tracing is expensive and the excessive number of tracings could be due to (1) creating @tf.function repeatedly in a loop, (2) passing tensors with different shapes, (3) passing Python objects instead of tensors. For (1), please define your @tf.function outside of the loop. For (2), @tf.function has reduce_retracing=True option that can avoid unnecessary retracing. For (3), please refer to https://www.tensorflow.org/guide/function#controlling_retracing and https://www.tensorflow.org/api_docs/python/tf/function for  more details.\n",
      "1/1 [==============================] - 0s 78ms/step\n"
     ]
    },
    {
     "data": {
      "image/png": "[encoded data removed]",
      "text/plain": [
       "<Figure size 1000x700 with 1 Axes>"
      ]
     },
     "metadata": {},
     "output_type": "display_data"
    }
   ],
   "source": [
    "# Make and plot predictions for model_1\n",
    "y_preds_1 = model_1.predict(X_test)\n",
    "plot_predictions(predictions=y_preds_1)"
   ]
  },
  {
   "cell_type": "code",
   "execution_count": 48,
   "metadata": {},
   "outputs": [
    {
     "data": {
      "text/plain": [
       "(<tf.Tensor: shape=(), dtype=float32, numpy=17.284458>,\n",
       " <tf.Tensor: shape=(), dtype=float32, numpy=421.31885>)"
      ]
     },
     "execution_count": 48,
     "metadata": {},
     "output_type": "execute_result"
    }
   ],
   "source": [
    "# Calculate model_1 evaluation metrics\n",
    "mae_1 = mae(y_test, y_preds_1)\n",
    "mse_1 = mse(y_test, y_preds_1)\n",
    "mae_1, mse_1"
   ]
  },
  {
   "cell_type": "code",
   "execution_count": 49,
   "metadata": {},
   "outputs": [
    {
     "data": {
      "text/plain": [
       "<keras.callbacks.History at 0x298bac180a0>"
      ]
     },
     "execution_count": 49,
     "metadata": {},
     "output_type": "execute_result"
    }
   ],
   "source": [
    "# 1. Create model_2\n",
    "model_2 = tf.keras.Sequential([\n",
    "    tf.keras.layers.Dense(1),\n",
    "    tf.keras.layers.Dense(1)\n",
    "])\n",
    "\n",
    "# 2. Compile model_2\n",
    "model_2.compile(loss=tf.keras.losses.mae,\n",
    "                optimizer=tf.keras.optimizers.SGD(),\n",
    "                metrics=['mae'])\n",
    "\n",
    "# 3. Fit the model_2\n",
    "model_2.fit(tf.expand_dims(X_train, axis=-1), y_train, epochs=100, verbose=0)"
   ]
  },
  {
   "cell_type": "code",
   "execution_count": 50,
   "metadata": {},
   "outputs": [
    {
     "name": "stdout",
     "output_type": "stream",
     "text": [
      "WARNING:tensorflow:6 out of the last 6 calls to <function Model.make_predict_function.<locals>.predict_function at 0x00000298B9B4AD40> triggered tf.function retracing. Tracing is expensive and the excessive number of tracings could be due to (1) creating @tf.function repeatedly in a loop, (2) passing tensors with different shapes, (3) passing Python objects instead of tensors. For (1), please define your @tf.function outside of the loop. For (2), @tf.function has reduce_retracing=True option that can avoid unnecessary retracing. For (3), please refer to https://www.tensorflow.org/guide/function#controlling_retracing and https://www.tensorflow.org/api_docs/python/tf/function for  more details.\n",
      "1/1 [==============================] - 0s 85ms/step\n"
     ]
    },
    {
     "data": {
      "image/png": "[encoded data removed]",
      "text/plain": [
       "<Figure size 1000x700 with 1 Axes>"
      ]
     },
     "metadata": {},
     "output_type": "display_data"
    }
   ],
   "source": [
    "y_preds_2 = model.predict(X_test)\n",
    "plot_predictions(predictions=y_preds_2)"
   ]
  },
  {
   "cell_type": "code",
   "execution_count": 51,
   "metadata": {},
   "outputs": [
    {
     "data": {
      "text/plain": [
       "(<tf.Tensor: shape=(), dtype=float32, numpy=6.722602>,\n",
       " <tf.Tensor: shape=(), dtype=float32, numpy=79.21892>)"
      ]
     },
     "execution_count": 51,
     "metadata": {},
     "output_type": "execute_result"
    }
   ],
   "source": [
    "mae_2 = mae(y_test, y_preds_2)\n",
    "mse_2 = mse(y_test, y_preds_2)\n",
    "mae_2, mse_2"
   ]
  },
  {
   "cell_type": "code",
   "execution_count": 58,
   "metadata": {},
   "outputs": [
    {
     "data": {
      "text/plain": [
       "<keras.callbacks.History at 0x298b94afc70>"
      ]
     },
     "execution_count": 58,
     "metadata": {},
     "output_type": "execute_result"
    }
   ],
   "source": [
    "# 1. Create model_3\n",
    "model_3 = tf.keras.Sequential([\n",
    "    tf.keras.layers.Dense(1),\n",
    "    tf.keras.layers.Dense(1)\n",
    "])\n",
    "\n",
    "# 2. Compile model_3\n",
    "model_3.compile(loss=tf.keras.losses.mae,\n",
    "                optimizer=tf.keras.optimizers.SGD(),\n",
    "                metrics=['mae'])\n",
    "\n",
    "# 3. Fitting the model_3\n",
    "model_3.fit(tf.expand_dims(X_train, axis=-1), y_train, epochs=500, verbose=0)"
   ]
  },
  {
   "cell_type": "code",
   "execution_count": 59,
   "metadata": {},
   "outputs": [
    {
     "name": "stdout",
     "output_type": "stream",
     "text": [
      "1/1 [==============================] - 0s 33ms/step\n"
     ]
    },
    {
     "data": {
      "image/png": "[encoded data removed]",
      "text/plain": [
       "<Figure size 1000x700 with 1 Axes>"
      ]
     },
     "metadata": {},
     "output_type": "display_data"
    }
   ],
   "source": [
    "y_preds_3 = model.predict(X_test)\n",
    "plot_predictions(predictions=y_preds_3)"
   ]
  },
  {
   "cell_type": "code",
   "execution_count": 60,
   "metadata": {},
   "outputs": [
    {
     "data": {
      "text/plain": [
       "(<tf.Tensor: shape=(), dtype=float32, numpy=6.722602>,\n",
       " <tf.Tensor: shape=(), dtype=float32, numpy=79.21892>)"
      ]
     },
     "execution_count": 60,
     "metadata": {},
     "output_type": "execute_result"
    }
   ],
   "source": [
    "mae_3 = mae(y_test, y_preds_3)\n",
    "mse_3 = mse(y_test, y_preds_3)\n",
    "mae_3, mse_3"
   ]
  },
  {
   "attachments": {},
   "cell_type": "markdown",
   "metadata": {},
   "source": [
    "🔑**Note:** Start with small experiments and then improve based on that."
   ]
  },
  {
   "attachments": {},
   "cell_type": "markdown",
   "metadata": {},
   "source": [
    "## Comparing the results of our experiments"
   ]
  },
  {
   "cell_type": "code",
   "execution_count": 61,
   "metadata": {},
   "outputs": [
    {
     "data": {
      "text/html": [
       "<div>\n",
       "<style scoped>\n",
       "    .dataframe tbody tr th:only-of-type {\n",
       "        vertical-align: middle;\n",
       "    }\n",
       "\n",
       "    .dataframe tbody tr th {\n",
       "        vertical-align: top;\n",
       "    }\n",
       "\n",
       "    .dataframe thead th {\n",
       "        text-align: right;\n",
       "    }\n",
       "</style>\n",
       "<table border=\"1\" class=\"dataframe\">\n",
       "  <thead>\n",
       "    <tr style=\"text-align: right;\">\n",
       "      <th></th>\n",
       "      <th>Model</th>\n",
       "      <th>MAE</th>\n",
       "      <th>MSE</th>\n",
       "    </tr>\n",
       "  </thead>\n",
       "  <tbody>\n",
       "    <tr>\n",
       "      <th>0</th>\n",
       "      <td>model_1</td>\n",
       "      <td>17.284458</td>\n",
       "      <td>421.318848</td>\n",
       "    </tr>\n",
       "    <tr>\n",
       "      <th>1</th>\n",
       "      <td>model_2</td>\n",
       "      <td>6.722602</td>\n",
       "      <td>79.218918</td>\n",
       "    </tr>\n",
       "    <tr>\n",
       "      <th>2</th>\n",
       "      <td>model_3</td>\n",
       "      <td>6.722602</td>\n",
       "      <td>79.218918</td>\n",
       "    </tr>\n",
       "  </tbody>\n",
       "</table>\n",
       "</div>"
      ],
      "text/plain": [
       "     Model        MAE         MSE\n",
       "0  model_1  17.284458  421.318848\n",
       "1  model_2   6.722602   79.218918\n",
       "2  model_3   6.722602   79.218918"
      ]
     },
     "execution_count": 61,
     "metadata": {},
     "output_type": "execute_result"
    }
   ],
   "source": [
    "# Let's compare our model's results using a pandas DataFrame\n",
    "import pandas as pd\n",
    "\n",
    "model_results = [\n",
    "    ['model_1', mae_1.numpy(), mse_1.numpy()],\n",
    "    ['model_2', mae_2.numpy(), mse_2.numpy()],\n",
    "    ['model_3', mae_3.numpy(), mse_3.numpy()]\n",
    "]\n",
    "\n",
    "all_results = pd.DataFrame(model_results, columns=['Model', 'MAE', 'MSE'])\n",
    "all_results"
   ]
  },
  {
   "attachments": {},
   "cell_type": "markdown",
   "metadata": {},
   "source": [
    "## Tracking your experiments\n",
    "\n",
    "A good habit is tracking the results of your experiments.\n",
    "\n",
    "It can be tedious with lots of experiments.\n",
    "\n",
    "Luckily, there are tools to helps us.\n",
    "\n",
    "* _Tensorboard_ - helps with tracking modeeling experiments\n",
    "* _Weights & Biases_ - a tool for tracking all kinds of ML experiments (plugs straight into TensorBoard)"
   ]
  },
  {
   "attachments": {},
   "cell_type": "markdown",
   "metadata": {},
   "source": [
    "## Saving our models\n",
    "\n",
    "Helps store it for later use.\n",
    "\n",
    "Formats:\n",
    "* _SavedModel_ format\n",
    "* _HDF5_ fromat"
   ]
  },
  {
   "cell_type": "code",
   "execution_count": 63,
   "metadata": {},
   "outputs": [
    {
     "name": "stderr",
     "output_type": "stream",
     "text": [
      "WARNING:absl:Found untraced functions such as _update_step_xla while saving (showing 1 of 1). These functions will not be directly callable after loading.\n"
     ]
    },
    {
     "name": "stdout",
     "output_type": "stream",
     "text": [
      "INFO:tensorflow:Assets written to: best_model\\assets\n"
     ]
    },
    {
     "name": "stderr",
     "output_type": "stream",
     "text": [
      "INFO:tensorflow:Assets written to: best_model\\assets\n"
     ]
    }
   ],
   "source": [
    "# Save model using SavedModel format\n",
    "model_2.save('best_model')\n",
    "model_2.save('best_model.h5')"
   ]
  },
  {
   "attachments": {},
   "cell_type": "markdown",
   "metadata": {},
   "source": [
    "## Loading our models"
   ]
  },
  {
   "cell_type": "code",
   "execution_count": 67,
   "metadata": {},
   "outputs": [
    {
     "name": "stdout",
     "output_type": "stream",
     "text": [
      "Model: \"sequential_8\"\n",
      "_________________________________________________________________\n",
      " Layer (type)                Output Shape              Param #   \n",
      "=================================================================\n",
      " dense_9 (Dense)             (None, 1)                 2         \n",
      "                                                                 \n",
      " dense_10 (Dense)            (None, 1)                 2         \n",
      "                                                                 \n",
      "=================================================================\n",
      "Total params: 4\n",
      "Trainable params: 4\n",
      "Non-trainable params: 0\n",
      "_________________________________________________________________\n"
     ]
    }
   ],
   "source": [
    "loaded_model = tf.keras.models.load_model('best_model')\n",
    "loaded_model.summary()"
   ]
  },
  {
   "cell_type": "code",
   "execution_count": 68,
   "metadata": {},
   "outputs": [
    {
     "name": "stdout",
     "output_type": "stream",
     "text": [
      "Model: \"sequential_8\"\n",
      "_________________________________________________________________\n",
      " Layer (type)                Output Shape              Param #   \n",
      "=================================================================\n",
      " dense_9 (Dense)             (None, 1)                 2         \n",
      "                                                                 \n",
      " dense_10 (Dense)            (None, 1)                 2         \n",
      "                                                                 \n",
      "=================================================================\n",
      "Total params: 4\n",
      "Trainable params: 4\n",
      "Non-trainable params: 0\n",
      "_________________________________________________________________\n"
     ]
    }
   ],
   "source": [
    "loaded_model = tf.keras.models.load_model('best_model.h5')\n",
    "loaded_model.summary()"
   ]
  },
  {
   "attachments": {},
   "cell_type": "markdown",
   "metadata": {},
   "source": [
    "## Downloading from Google Colab"
   ]
  },
  {
   "cell_type": "code",
   "execution_count": null,
   "metadata": {},
   "outputs": [],
   "source": [
    "from google.colab import files\n",
    "files.download('/content/best_model.h5')"
   ]
  },
  {
   "cell_type": "code",
   "execution_count": 70,
   "metadata": {},
   "outputs": [
    {
     "name": "stdout",
     "output_type": "stream",
     "text": [
      " Volume in drive C is OS\n",
      " Volume Serial Number is 3C7F-3341\n",
      "\n",
      " Directory of c:\\Users\\igari\\OneDrive\\Python\\Tensorsss\n",
      "\n",
      "07/03/2023  01:00 am    <DIR>          .\n",
      "05/03/2023  12:37 am    <DIR>          ..\n",
      "05/03/2023  12:43 am    <DIR>          .vscode\n",
      "05/03/2023  06:24 pm            55,884 00_tensorflow_fundamentals.ipynb\n",
      "07/03/2023  01:08 am           509,535 01_neural_network_regression_with_tensorflow.ipynb\n",
      "07/03/2023  01:00 am    <DIR>          best_model\n",
      "07/03/2023  01:00 am            21,952 best_model.h5\n",
      "               3 File(s)        587,371 bytes\n",
      "               4 Dir(s)  371,036,573,696 bytes free\n"
     ]
    }
   ],
   "source": [
    "!dir ."
   ]
  },
  {
   "cell_type": "markdown",
   "metadata": {},
   "source": [
    "## A larger dataset"
   ]
  },
  {
   "cell_type": "code",
   "execution_count": 1,
   "metadata": {},
   "outputs": [],
   "source": [
    "# Import the required libraries\n",
    "import tensorflow as tf\n",
    "import pandas as pd\n",
    "import matplotlib.pyplot as plt\n",
    "import numpy as np"
   ]
  },
  {
   "cell_type": "code",
   "execution_count": 2,
   "metadata": {},
   "outputs": [
    {
     "data": {
      "text/html": [
       "<div>\n",
       "<style scoped>\n",
       "    .dataframe tbody tr th:only-of-type {\n",
       "        vertical-align: middle;\n",
       "    }\n",
       "\n",
       "    .dataframe tbody tr th {\n",
       "        vertical-align: top;\n",
       "    }\n",
       "\n",
       "    .dataframe thead th {\n",
       "        text-align: right;\n",
       "    }\n",
       "</style>\n",
       "<table border=\"1\" class=\"dataframe\">\n",
       "  <thead>\n",
       "    <tr style=\"text-align: right;\">\n",
       "      <th></th>\n",
       "      <th>age</th>\n",
       "      <th>sex</th>\n",
       "      <th>bmi</th>\n",
       "      <th>children</th>\n",
       "      <th>smoker</th>\n",
       "      <th>region</th>\n",
       "      <th>charges</th>\n",
       "    </tr>\n",
       "  </thead>\n",
       "  <tbody>\n",
       "    <tr>\n",
       "      <th>0</th>\n",
       "      <td>19</td>\n",
       "      <td>female</td>\n",
       "      <td>27.900</td>\n",
       "      <td>0</td>\n",
       "      <td>yes</td>\n",
       "      <td>southwest</td>\n",
       "      <td>16884.92400</td>\n",
       "    </tr>\n",
       "    <tr>\n",
       "      <th>1</th>\n",
       "      <td>18</td>\n",
       "      <td>male</td>\n",
       "      <td>33.770</td>\n",
       "      <td>1</td>\n",
       "      <td>no</td>\n",
       "      <td>southeast</td>\n",
       "      <td>1725.55230</td>\n",
       "    </tr>\n",
       "    <tr>\n",
       "      <th>2</th>\n",
       "      <td>28</td>\n",
       "      <td>male</td>\n",
       "      <td>33.000</td>\n",
       "      <td>3</td>\n",
       "      <td>no</td>\n",
       "      <td>southeast</td>\n",
       "      <td>4449.46200</td>\n",
       "    </tr>\n",
       "    <tr>\n",
       "      <th>3</th>\n",
       "      <td>33</td>\n",
       "      <td>male</td>\n",
       "      <td>22.705</td>\n",
       "      <td>0</td>\n",
       "      <td>no</td>\n",
       "      <td>northwest</td>\n",
       "      <td>21984.47061</td>\n",
       "    </tr>\n",
       "    <tr>\n",
       "      <th>4</th>\n",
       "      <td>32</td>\n",
       "      <td>male</td>\n",
       "      <td>28.880</td>\n",
       "      <td>0</td>\n",
       "      <td>no</td>\n",
       "      <td>northwest</td>\n",
       "      <td>3866.85520</td>\n",
       "    </tr>\n",
       "    <tr>\n",
       "      <th>...</th>\n",
       "      <td>...</td>\n",
       "      <td>...</td>\n",
       "      <td>...</td>\n",
       "      <td>...</td>\n",
       "      <td>...</td>\n",
       "      <td>...</td>\n",
       "      <td>...</td>\n",
       "    </tr>\n",
       "    <tr>\n",
       "      <th>1333</th>\n",
       "      <td>50</td>\n",
       "      <td>male</td>\n",
       "      <td>30.970</td>\n",
       "      <td>3</td>\n",
       "      <td>no</td>\n",
       "      <td>northwest</td>\n",
       "      <td>10600.54830</td>\n",
       "    </tr>\n",
       "    <tr>\n",
       "      <th>1334</th>\n",
       "      <td>18</td>\n",
       "      <td>female</td>\n",
       "      <td>31.920</td>\n",
       "      <td>0</td>\n",
       "      <td>no</td>\n",
       "      <td>northeast</td>\n",
       "      <td>2205.98080</td>\n",
       "    </tr>\n",
       "    <tr>\n",
       "      <th>1335</th>\n",
       "      <td>18</td>\n",
       "      <td>female</td>\n",
       "      <td>36.850</td>\n",
       "      <td>0</td>\n",
       "      <td>no</td>\n",
       "      <td>southeast</td>\n",
       "      <td>1629.83350</td>\n",
       "    </tr>\n",
       "    <tr>\n",
       "      <th>1336</th>\n",
       "      <td>21</td>\n",
       "      <td>female</td>\n",
       "      <td>25.800</td>\n",
       "      <td>0</td>\n",
       "      <td>no</td>\n",
       "      <td>southwest</td>\n",
       "      <td>2007.94500</td>\n",
       "    </tr>\n",
       "    <tr>\n",
       "      <th>1337</th>\n",
       "      <td>61</td>\n",
       "      <td>female</td>\n",
       "      <td>29.070</td>\n",
       "      <td>0</td>\n",
       "      <td>yes</td>\n",
       "      <td>northwest</td>\n",
       "      <td>29141.36030</td>\n",
       "    </tr>\n",
       "  </tbody>\n",
       "</table>\n",
       "<p>1338 rows × 7 columns</p>\n",
       "</div>"
      ],
      "text/plain": [
       "      age     sex     bmi  children smoker     region      charges\n",
       "0      19  female  27.900         0    yes  southwest  16884.92400\n",
       "1      18    male  33.770         1     no  southeast   1725.55230\n",
       "2      28    male  33.000         3     no  southeast   4449.46200\n",
       "3      33    male  22.705         0     no  northwest  21984.47061\n",
       "4      32    male  28.880         0     no  northwest   3866.85520\n",
       "...   ...     ...     ...       ...    ...        ...          ...\n",
       "1333   50    male  30.970         3     no  northwest  10600.54830\n",
       "1334   18  female  31.920         0     no  northeast   2205.98080\n",
       "1335   18  female  36.850         0     no  southeast   1629.83350\n",
       "1336   21  female  25.800         0     no  southwest   2007.94500\n",
       "1337   61  female  29.070         0    yes  northwest  29141.36030\n",
       "\n",
       "[1338 rows x 7 columns]"
      ]
     },
     "execution_count": 2,
     "metadata": {},
     "output_type": "execute_result"
    }
   ],
   "source": [
    "# Read the insurance dataset\n",
    "insurance = pd.read_csv('https://raw.githubusercontent.com/stedy/Machine-Learning-with-R-datasets/master/insurance.csv')\n",
    "insurance"
   ]
  },
  {
   "attachments": {},
   "cell_type": "markdown",
   "metadata": {},
   "source": [
    "IV: **charges**\n",
    "DV: **rest**"
   ]
  },
  {
   "attachments": {},
   "cell_type": "markdown",
   "metadata": {},
   "source": [
    "Convert categorical variables to one-hot encoded variables"
   ]
  },
  {
   "cell_type": "code",
   "execution_count": 3,
   "metadata": {},
   "outputs": [
    {
     "data": {
      "text/html": [
       "<div>\n",
       "<style scoped>\n",
       "    .dataframe tbody tr th:only-of-type {\n",
       "        vertical-align: middle;\n",
       "    }\n",
       "\n",
       "    .dataframe tbody tr th {\n",
       "        vertical-align: top;\n",
       "    }\n",
       "\n",
       "    .dataframe thead th {\n",
       "        text-align: right;\n",
       "    }\n",
       "</style>\n",
       "<table border=\"1\" class=\"dataframe\">\n",
       "  <thead>\n",
       "    <tr style=\"text-align: right;\">\n",
       "      <th></th>\n",
       "      <th>age</th>\n",
       "      <th>bmi</th>\n",
       "      <th>children</th>\n",
       "      <th>charges</th>\n",
       "      <th>sex_female</th>\n",
       "      <th>sex_male</th>\n",
       "      <th>smoker_no</th>\n",
       "      <th>smoker_yes</th>\n",
       "      <th>region_northeast</th>\n",
       "      <th>region_northwest</th>\n",
       "      <th>region_southeast</th>\n",
       "      <th>region_southwest</th>\n",
       "    </tr>\n",
       "  </thead>\n",
       "  <tbody>\n",
       "    <tr>\n",
       "      <th>0</th>\n",
       "      <td>19</td>\n",
       "      <td>27.900</td>\n",
       "      <td>0</td>\n",
       "      <td>16884.92400</td>\n",
       "      <td>1</td>\n",
       "      <td>0</td>\n",
       "      <td>0</td>\n",
       "      <td>1</td>\n",
       "      <td>0</td>\n",
       "      <td>0</td>\n",
       "      <td>0</td>\n",
       "      <td>1</td>\n",
       "    </tr>\n",
       "    <tr>\n",
       "      <th>1</th>\n",
       "      <td>18</td>\n",
       "      <td>33.770</td>\n",
       "      <td>1</td>\n",
       "      <td>1725.55230</td>\n",
       "      <td>0</td>\n",
       "      <td>1</td>\n",
       "      <td>1</td>\n",
       "      <td>0</td>\n",
       "      <td>0</td>\n",
       "      <td>0</td>\n",
       "      <td>1</td>\n",
       "      <td>0</td>\n",
       "    </tr>\n",
       "    <tr>\n",
       "      <th>2</th>\n",
       "      <td>28</td>\n",
       "      <td>33.000</td>\n",
       "      <td>3</td>\n",
       "      <td>4449.46200</td>\n",
       "      <td>0</td>\n",
       "      <td>1</td>\n",
       "      <td>1</td>\n",
       "      <td>0</td>\n",
       "      <td>0</td>\n",
       "      <td>0</td>\n",
       "      <td>1</td>\n",
       "      <td>0</td>\n",
       "    </tr>\n",
       "    <tr>\n",
       "      <th>3</th>\n",
       "      <td>33</td>\n",
       "      <td>22.705</td>\n",
       "      <td>0</td>\n",
       "      <td>21984.47061</td>\n",
       "      <td>0</td>\n",
       "      <td>1</td>\n",
       "      <td>1</td>\n",
       "      <td>0</td>\n",
       "      <td>0</td>\n",
       "      <td>1</td>\n",
       "      <td>0</td>\n",
       "      <td>0</td>\n",
       "    </tr>\n",
       "    <tr>\n",
       "      <th>4</th>\n",
       "      <td>32</td>\n",
       "      <td>28.880</td>\n",
       "      <td>0</td>\n",
       "      <td>3866.85520</td>\n",
       "      <td>0</td>\n",
       "      <td>1</td>\n",
       "      <td>1</td>\n",
       "      <td>0</td>\n",
       "      <td>0</td>\n",
       "      <td>1</td>\n",
       "      <td>0</td>\n",
       "      <td>0</td>\n",
       "    </tr>\n",
       "  </tbody>\n",
       "</table>\n",
       "</div>"
      ],
      "text/plain": [
       "   age     bmi  children      charges  sex_female  sex_male  smoker_no  \\\n",
       "0   19  27.900         0  16884.92400           1         0          0   \n",
       "1   18  33.770         1   1725.55230           0         1          1   \n",
       "2   28  33.000         3   4449.46200           0         1          1   \n",
       "3   33  22.705         0  21984.47061           0         1          1   \n",
       "4   32  28.880         0   3866.85520           0         1          1   \n",
       "\n",
       "   smoker_yes  region_northeast  region_northwest  region_southeast  \\\n",
       "0           1                 0                 0                 0   \n",
       "1           0                 0                 0                 1   \n",
       "2           0                 0                 0                 1   \n",
       "3           0                 0                 1                 0   \n",
       "4           0                 0                 1                 0   \n",
       "\n",
       "   region_southwest  \n",
       "0                 1  \n",
       "1                 0  \n",
       "2                 0  \n",
       "3                 0  \n",
       "4                 0  "
      ]
     },
     "execution_count": 3,
     "metadata": {},
     "output_type": "execute_result"
    }
   ],
   "source": [
    "insurance_onehot = pd.get_dummies(insurance)\n",
    "insurance_onehot.head()"
   ]
  },
  {
   "cell_type": "code",
   "execution_count": 4,
   "metadata": {},
   "outputs": [
    {
     "data": {
      "text/plain": [
       "1338"
      ]
     },
     "execution_count": 4,
     "metadata": {},
     "output_type": "execute_result"
    }
   ],
   "source": [
    "len(insurance_onehot)"
   ]
  },
  {
   "cell_type": "code",
   "execution_count": 5,
   "metadata": {},
   "outputs": [],
   "source": [
    "def data_sets(data: np.array, division=(80, 10, 10), shuffle=True):\n",
    "    if type(data) == pd.DataFrame:\n",
    "        data_copy = np.array(data.copy(deep=True))\n",
    "    data_copy = data.copy()\n",
    "    if shuffle:\n",
    "        np.random.shuffle(data_copy)\n",
    "    data_length = len(data_copy)\n",
    "    sets = []\n",
    "    division_indices = [0]\n",
    "    # Cut the data into portions according to the specified division\n",
    "    for i in range(1, len(division)+1):\n",
    "        division_indices.append(\n",
    "            int(np.floor(\n",
    "                data_length * sum(division[:i]) / 100\n",
    "            ))\n",
    "        )\n",
    "    print(division_indices)\n",
    "    for i in range(len(division_indices)-1):\n",
    "        sets.append(data_copy[division_indices[i]:division_indices[i+1]])\n",
    "\n",
    "    return sets"
   ]
  },
  {
   "cell_type": "code",
   "execution_count": 7,
   "metadata": {},
   "outputs": [],
   "source": [
    "X = insurance_onehot.drop('charges', axis=1)\n",
    "y = insurance_onehot['charges']"
   ]
  },
  {
   "cell_type": "code",
   "execution_count": 8,
   "metadata": {},
   "outputs": [
    {
     "data": {
      "text/html": [
       "<div>\n",
       "<style scoped>\n",
       "    .dataframe tbody tr th:only-of-type {\n",
       "        vertical-align: middle;\n",
       "    }\n",
       "\n",
       "    .dataframe tbody tr th {\n",
       "        vertical-align: top;\n",
       "    }\n",
       "\n",
       "    .dataframe thead th {\n",
       "        text-align: right;\n",
       "    }\n",
       "</style>\n",
       "<table border=\"1\" class=\"dataframe\">\n",
       "  <thead>\n",
       "    <tr style=\"text-align: right;\">\n",
       "      <th></th>\n",
       "      <th>age</th>\n",
       "      <th>bmi</th>\n",
       "      <th>children</th>\n",
       "      <th>sex_female</th>\n",
       "      <th>sex_male</th>\n",
       "      <th>smoker_no</th>\n",
       "      <th>smoker_yes</th>\n",
       "      <th>region_northeast</th>\n",
       "      <th>region_northwest</th>\n",
       "      <th>region_southeast</th>\n",
       "      <th>region_southwest</th>\n",
       "    </tr>\n",
       "  </thead>\n",
       "  <tbody>\n",
       "    <tr>\n",
       "      <th>0</th>\n",
       "      <td>19</td>\n",
       "      <td>27.900</td>\n",
       "      <td>0</td>\n",
       "      <td>1</td>\n",
       "      <td>0</td>\n",
       "      <td>0</td>\n",
       "      <td>1</td>\n",
       "      <td>0</td>\n",
       "      <td>0</td>\n",
       "      <td>0</td>\n",
       "      <td>1</td>\n",
       "    </tr>\n",
       "    <tr>\n",
       "      <th>1</th>\n",
       "      <td>18</td>\n",
       "      <td>33.770</td>\n",
       "      <td>1</td>\n",
       "      <td>0</td>\n",
       "      <td>1</td>\n",
       "      <td>1</td>\n",
       "      <td>0</td>\n",
       "      <td>0</td>\n",
       "      <td>0</td>\n",
       "      <td>1</td>\n",
       "      <td>0</td>\n",
       "    </tr>\n",
       "    <tr>\n",
       "      <th>2</th>\n",
       "      <td>28</td>\n",
       "      <td>33.000</td>\n",
       "      <td>3</td>\n",
       "      <td>0</td>\n",
       "      <td>1</td>\n",
       "      <td>1</td>\n",
       "      <td>0</td>\n",
       "      <td>0</td>\n",
       "      <td>0</td>\n",
       "      <td>1</td>\n",
       "      <td>0</td>\n",
       "    </tr>\n",
       "    <tr>\n",
       "      <th>3</th>\n",
       "      <td>33</td>\n",
       "      <td>22.705</td>\n",
       "      <td>0</td>\n",
       "      <td>0</td>\n",
       "      <td>1</td>\n",
       "      <td>1</td>\n",
       "      <td>0</td>\n",
       "      <td>0</td>\n",
       "      <td>1</td>\n",
       "      <td>0</td>\n",
       "      <td>0</td>\n",
       "    </tr>\n",
       "    <tr>\n",
       "      <th>4</th>\n",
       "      <td>32</td>\n",
       "      <td>28.880</td>\n",
       "      <td>0</td>\n",
       "      <td>0</td>\n",
       "      <td>1</td>\n",
       "      <td>1</td>\n",
       "      <td>0</td>\n",
       "      <td>0</td>\n",
       "      <td>1</td>\n",
       "      <td>0</td>\n",
       "      <td>0</td>\n",
       "    </tr>\n",
       "  </tbody>\n",
       "</table>\n",
       "</div>"
      ],
      "text/plain": [
       "   age     bmi  children  sex_female  sex_male  smoker_no  smoker_yes  \\\n",
       "0   19  27.900         0           1         0          0           1   \n",
       "1   18  33.770         1           0         1          1           0   \n",
       "2   28  33.000         3           0         1          1           0   \n",
       "3   33  22.705         0           0         1          1           0   \n",
       "4   32  28.880         0           0         1          1           0   \n",
       "\n",
       "   region_northeast  region_northwest  region_southeast  region_southwest  \n",
       "0                 0                 0                 0                 1  \n",
       "1                 0                 0                 1                 0  \n",
       "2                 0                 0                 1                 0  \n",
       "3                 0                 1                 0                 0  \n",
       "4                 0                 1                 0                 0  "
      ]
     },
     "execution_count": 8,
     "metadata": {},
     "output_type": "execute_result"
    }
   ],
   "source": [
    "X.head()"
   ]
  },
  {
   "cell_type": "code",
   "execution_count": 9,
   "metadata": {},
   "outputs": [
    {
     "data": {
      "text/plain": [
       "0    16884.92400\n",
       "1     1725.55230\n",
       "2     4449.46200\n",
       "3    21984.47061\n",
       "4     3866.85520\n",
       "Name: charges, dtype: float64"
      ]
     },
     "execution_count": 9,
     "metadata": {},
     "output_type": "execute_result"
    }
   ],
   "source": [
    "y.head()"
   ]
  },
  {
   "cell_type": "code",
   "execution_count": 11,
   "metadata": {},
   "outputs": [],
   "source": [
    "# X_train, X_test = data_sets(X, division=(80, 20))\n",
    "# y_train, y_test = data_sets(y, division=(80, 20))"
   ]
  },
  {
   "cell_type": "code",
   "execution_count": 12,
   "metadata": {},
   "outputs": [
    {
     "data": {
      "text/plain": [
       "(1070, 268, 1070, 268)"
      ]
     },
     "execution_count": 12,
     "metadata": {},
     "output_type": "execute_result"
    }
   ],
   "source": [
    "from sklearn.model_selection import train_test_split\n",
    "\n",
    "X_train, X_test, y_train, y_test = train_test_split(X, y, test_size=0.2)\n",
    "len(X_train), len(X_test), len(y_train), len(y_test)"
   ]
  },
  {
   "cell_type": "code",
   "execution_count": 13,
   "metadata": {},
   "outputs": [
    {
     "name": "stdout",
     "output_type": "stream",
     "text": [
      "Epoch 1/100\n",
      "34/34 [==============================] - 1s 3ms/step - loss: 11009.1172 - mae: 11009.1172\n",
      "Epoch 2/100\n",
      "34/34 [==============================] - 0s 2ms/step - loss: 7315.4351 - mae: 7315.4351\n",
      "Epoch 3/100\n",
      "34/34 [==============================] - 0s 2ms/step - loss: 7107.5112 - mae: 7107.5112\n",
      "Epoch 4/100\n",
      "34/34 [==============================] - 0s 3ms/step - loss: 7002.8687 - mae: 7002.8687\n",
      "Epoch 5/100\n",
      "34/34 [==============================] - 0s 2ms/step - loss: 6958.9263 - mae: 6958.9263\n",
      "Epoch 6/100\n",
      "34/34 [==============================] - 0s 2ms/step - loss: 6971.8877 - mae: 6971.8877\n",
      "Epoch 7/100\n",
      "34/34 [==============================] - 0s 2ms/step - loss: 7011.3462 - mae: 7011.3462\n",
      "Epoch 8/100\n",
      "34/34 [==============================] - 0s 2ms/step - loss: 6981.0918 - mae: 6981.0918\n",
      "Epoch 9/100\n",
      "34/34 [==============================] - 0s 2ms/step - loss: 6935.6895 - mae: 6935.6895\n",
      "Epoch 10/100\n",
      "34/34 [==============================] - 0s 2ms/step - loss: 6953.7632 - mae: 6953.7632\n",
      "Epoch 11/100\n",
      "34/34 [==============================] - 0s 3ms/step - loss: 6940.7173 - mae: 6940.7173\n",
      "Epoch 12/100\n",
      "34/34 [==============================] - 0s 3ms/step - loss: 6934.1724 - mae: 6934.1724\n",
      "Epoch 13/100\n",
      "34/34 [==============================] - 0s 4ms/step - loss: 6937.2612 - mae: 6937.2612\n",
      "Epoch 14/100\n",
      "34/34 [==============================] - 0s 2ms/step - loss: 6931.4370 - mae: 6931.4370\n",
      "Epoch 15/100\n",
      "34/34 [==============================] - 0s 2ms/step - loss: 6957.6284 - mae: 6957.6284\n",
      "Epoch 16/100\n",
      "34/34 [==============================] - 0s 2ms/step - loss: 6934.5381 - mae: 6934.5381\n",
      "Epoch 17/100\n",
      "34/34 [==============================] - 0s 2ms/step - loss: 6892.8130 - mae: 6892.8130\n",
      "Epoch 18/100\n",
      "34/34 [==============================] - 0s 3ms/step - loss: 6909.1382 - mae: 6909.1382\n",
      "Epoch 19/100\n",
      "34/34 [==============================] - 0s 3ms/step - loss: 6862.9570 - mae: 6862.9570\n",
      "Epoch 20/100\n",
      "34/34 [==============================] - 0s 2ms/step - loss: 6928.6421 - mae: 6928.6421\n",
      "Epoch 21/100\n",
      "34/34 [==============================] - 0s 2ms/step - loss: 6944.1470 - mae: 6944.1470\n",
      "Epoch 22/100\n",
      "34/34 [==============================] - 0s 2ms/step - loss: 6903.7241 - mae: 6903.7241\n",
      "Epoch 23/100\n",
      "34/34 [==============================] - 0s 2ms/step - loss: 6877.8306 - mae: 6877.8306\n",
      "Epoch 24/100\n",
      "34/34 [==============================] - 0s 2ms/step - loss: 6914.4019 - mae: 6914.4019\n",
      "Epoch 25/100\n",
      "34/34 [==============================] - 0s 2ms/step - loss: 6891.8247 - mae: 6891.8247\n",
      "Epoch 26/100\n",
      "34/34 [==============================] - 0s 2ms/step - loss: 6848.5049 - mae: 6848.5049\n",
      "Epoch 27/100\n",
      "34/34 [==============================] - 0s 2ms/step - loss: 6854.8359 - mae: 6854.8359\n",
      "Epoch 28/100\n",
      "34/34 [==============================] - 0s 2ms/step - loss: 6862.5078 - mae: 6862.5078\n",
      "Epoch 29/100\n",
      "34/34 [==============================] - 0s 2ms/step - loss: 6868.4268 - mae: 6868.4268\n",
      "Epoch 30/100\n",
      "34/34 [==============================] - 0s 2ms/step - loss: 6864.7666 - mae: 6864.7666\n",
      "Epoch 31/100\n",
      "34/34 [==============================] - 0s 2ms/step - loss: 6863.7168 - mae: 6863.7168\n",
      "Epoch 32/100\n",
      "34/34 [==============================] - 0s 2ms/step - loss: 6891.6411 - mae: 6891.6411\n",
      "Epoch 33/100\n",
      "34/34 [==============================] - 0s 2ms/step - loss: 6803.9839 - mae: 6803.9839\n",
      "Epoch 34/100\n",
      "34/34 [==============================] - 0s 2ms/step - loss: 6887.6802 - mae: 6887.6802\n",
      "Epoch 35/100\n",
      "34/34 [==============================] - 0s 2ms/step - loss: 6849.3047 - mae: 6849.3047\n",
      "Epoch 36/100\n",
      "34/34 [==============================] - 0s 2ms/step - loss: 6796.4756 - mae: 6796.4756\n",
      "Epoch 37/100\n",
      "34/34 [==============================] - 0s 2ms/step - loss: 6849.2593 - mae: 6849.2593\n",
      "Epoch 38/100\n",
      "34/34 [==============================] - 0s 2ms/step - loss: 6851.5083 - mae: 6851.5083\n",
      "Epoch 39/100\n",
      "34/34 [==============================] - 0s 2ms/step - loss: 6831.3530 - mae: 6831.3530\n",
      "Epoch 40/100\n",
      "34/34 [==============================] - 0s 2ms/step - loss: 6854.8662 - mae: 6854.8662\n",
      "Epoch 41/100\n",
      "34/34 [==============================] - 0s 2ms/step - loss: 6881.4707 - mae: 6881.4707\n",
      "Epoch 42/100\n",
      "34/34 [==============================] - 0s 2ms/step - loss: 6849.0811 - mae: 6849.0811\n",
      "Epoch 43/100\n",
      "34/34 [==============================] - 0s 2ms/step - loss: 6836.9209 - mae: 6836.9209\n",
      "Epoch 44/100\n",
      "34/34 [==============================] - 0s 2ms/step - loss: 6857.9946 - mae: 6857.9946\n",
      "Epoch 45/100\n",
      "34/34 [==============================] - 0s 2ms/step - loss: 6830.8364 - mae: 6830.8364\n",
      "Epoch 46/100\n",
      "34/34 [==============================] - 0s 2ms/step - loss: 6893.8955 - mae: 6893.8955\n",
      "Epoch 47/100\n",
      "34/34 [==============================] - 0s 2ms/step - loss: 6765.3721 - mae: 6765.3721\n",
      "Epoch 48/100\n",
      "34/34 [==============================] - 0s 2ms/step - loss: 6830.4629 - mae: 6830.4629\n",
      "Epoch 49/100\n",
      "34/34 [==============================] - 0s 2ms/step - loss: 6853.0591 - mae: 6853.0591\n",
      "Epoch 50/100\n",
      "34/34 [==============================] - 0s 2ms/step - loss: 6857.4106 - mae: 6857.4106\n",
      "Epoch 51/100\n",
      "34/34 [==============================] - 0s 2ms/step - loss: 6789.9541 - mae: 6789.9541\n",
      "Epoch 52/100\n",
      "34/34 [==============================] - 0s 2ms/step - loss: 6871.2134 - mae: 6871.2134\n",
      "Epoch 53/100\n",
      "34/34 [==============================] - 0s 2ms/step - loss: 6802.2710 - mae: 6802.2710\n",
      "Epoch 54/100\n",
      "34/34 [==============================] - 0s 2ms/step - loss: 6768.3755 - mae: 6768.3755\n",
      "Epoch 55/100\n",
      "34/34 [==============================] - 0s 2ms/step - loss: 6782.5269 - mae: 6782.5269\n",
      "Epoch 56/100\n",
      "34/34 [==============================] - 0s 2ms/step - loss: 6826.7153 - mae: 6826.7153\n",
      "Epoch 57/100\n",
      "34/34 [==============================] - 0s 2ms/step - loss: 6764.7822 - mae: 6764.7822\n",
      "Epoch 58/100\n",
      "34/34 [==============================] - 0s 2ms/step - loss: 6798.0029 - mae: 6798.0029\n",
      "Epoch 59/100\n",
      "34/34 [==============================] - 0s 2ms/step - loss: 6795.0986 - mae: 6795.0986\n",
      "Epoch 60/100\n",
      "34/34 [==============================] - 0s 2ms/step - loss: 6808.8379 - mae: 6808.8379\n",
      "Epoch 61/100\n",
      "34/34 [==============================] - 0s 2ms/step - loss: 6766.7939 - mae: 6766.7939\n",
      "Epoch 62/100\n",
      "34/34 [==============================] - 0s 2ms/step - loss: 6748.8608 - mae: 6748.8608\n",
      "Epoch 63/100\n",
      "34/34 [==============================] - 0s 2ms/step - loss: 6786.8901 - mae: 6786.8901\n",
      "Epoch 64/100\n",
      "34/34 [==============================] - 0s 2ms/step - loss: 6777.6836 - mae: 6777.6836\n",
      "Epoch 65/100\n",
      "34/34 [==============================] - 0s 2ms/step - loss: 6874.9380 - mae: 6874.9380\n",
      "Epoch 66/100\n",
      "34/34 [==============================] - 0s 2ms/step - loss: 6711.9580 - mae: 6711.9580\n",
      "Epoch 67/100\n",
      "34/34 [==============================] - 0s 2ms/step - loss: 6720.5981 - mae: 6720.5981\n",
      "Epoch 68/100\n",
      "34/34 [==============================] - 0s 2ms/step - loss: 6832.9761 - mae: 6832.9761\n",
      "Epoch 69/100\n",
      "34/34 [==============================] - 0s 2ms/step - loss: 6821.5869 - mae: 6821.5869\n",
      "Epoch 70/100\n",
      "34/34 [==============================] - 0s 2ms/step - loss: 6682.5796 - mae: 6682.5796\n",
      "Epoch 71/100\n",
      "34/34 [==============================] - 0s 2ms/step - loss: 6665.3887 - mae: 6665.3887\n",
      "Epoch 72/100\n",
      "34/34 [==============================] - 0s 2ms/step - loss: 6805.2231 - mae: 6805.2231\n",
      "Epoch 73/100\n",
      "34/34 [==============================] - 0s 2ms/step - loss: 6748.4512 - mae: 6748.4512\n",
      "Epoch 74/100\n",
      "34/34 [==============================] - 0s 2ms/step - loss: 6785.8501 - mae: 6785.8501\n",
      "Epoch 75/100\n",
      "34/34 [==============================] - 0s 2ms/step - loss: 6722.0928 - mae: 6722.0928\n",
      "Epoch 76/100\n",
      "34/34 [==============================] - 0s 2ms/step - loss: 6843.0811 - mae: 6843.0811\n",
      "Epoch 77/100\n",
      "34/34 [==============================] - 0s 2ms/step - loss: 6801.3682 - mae: 6801.3682\n",
      "Epoch 78/100\n",
      "34/34 [==============================] - 0s 2ms/step - loss: 6764.0889 - mae: 6764.0889\n",
      "Epoch 79/100\n",
      "34/34 [==============================] - 0s 2ms/step - loss: 6697.7241 - mae: 6697.7241\n",
      "Epoch 80/100\n",
      "34/34 [==============================] - 0s 2ms/step - loss: 6740.4482 - mae: 6740.4482\n",
      "Epoch 81/100\n",
      "34/34 [==============================] - 0s 2ms/step - loss: 6711.4673 - mae: 6711.4673\n",
      "Epoch 82/100\n",
      "34/34 [==============================] - 0s 3ms/step - loss: 6746.9951 - mae: 6746.9951\n",
      "Epoch 83/100\n",
      "34/34 [==============================] - 0s 2ms/step - loss: 6642.6577 - mae: 6642.6577\n",
      "Epoch 84/100\n",
      "34/34 [==============================] - 0s 2ms/step - loss: 6795.5444 - mae: 6795.5444\n",
      "Epoch 85/100\n",
      "34/34 [==============================] - 0s 2ms/step - loss: 6732.0752 - mae: 6732.0752\n",
      "Epoch 86/100\n",
      "34/34 [==============================] - 0s 2ms/step - loss: 6835.7124 - mae: 6835.7124\n",
      "Epoch 87/100\n",
      "34/34 [==============================] - 0s 2ms/step - loss: 6684.2129 - mae: 6684.2129\n",
      "Epoch 88/100\n",
      "34/34 [==============================] - 0s 2ms/step - loss: 6713.9541 - mae: 6713.9541\n",
      "Epoch 89/100\n",
      "34/34 [==============================] - 0s 2ms/step - loss: 6737.6606 - mae: 6737.6606\n",
      "Epoch 90/100\n",
      "34/34 [==============================] - 0s 2ms/step - loss: 6816.1904 - mae: 6816.1904\n",
      "Epoch 91/100\n",
      "34/34 [==============================] - 0s 2ms/step - loss: 6606.6138 - mae: 6606.6138\n",
      "Epoch 92/100\n",
      "34/34 [==============================] - 0s 2ms/step - loss: 6635.1060 - mae: 6635.1060\n",
      "Epoch 93/100\n",
      "34/34 [==============================] - 0s 2ms/step - loss: 6806.0210 - mae: 6806.0210\n",
      "Epoch 94/100\n",
      "34/34 [==============================] - 0s 2ms/step - loss: 6664.5879 - mae: 6664.5879\n",
      "Epoch 95/100\n",
      "34/34 [==============================] - 0s 2ms/step - loss: 6682.4272 - mae: 6682.4272\n",
      "Epoch 96/100\n",
      "34/34 [==============================] - 0s 2ms/step - loss: 6671.9858 - mae: 6671.9858\n",
      "Epoch 97/100\n",
      "34/34 [==============================] - 0s 2ms/step - loss: 6723.2773 - mae: 6723.2773\n",
      "Epoch 98/100\n",
      "34/34 [==============================] - 0s 2ms/step - loss: 6813.6475 - mae: 6813.6475\n",
      "Epoch 99/100\n",
      "34/34 [==============================] - 0s 2ms/step - loss: 6717.2188 - mae: 6717.2188\n",
      "Epoch 100/100\n",
      "34/34 [==============================] - 0s 2ms/step - loss: 6676.8325 - mae: 6676.8325\n"
     ]
    },
    {
     "data": {
      "text/plain": [
       "<keras.callbacks.History at 0x245fad5f3d0>"
      ]
     },
     "execution_count": 13,
     "metadata": {},
     "output_type": "execute_result"
    }
   ],
   "source": [
    "# Build a NN\n",
    "# 1. Create model\n",
    "insurance_model_1 = tf.keras.Sequential([\n",
    "    tf.keras.layers.Dense(10),\n",
    "    tf.keras.layers.Dense(10)\n",
    "])\n",
    "\n",
    "# 2. Compile a model\n",
    "insurance_model_1.compile(loss=tf.keras.losses.mae,\n",
    "                        optimizer=tf.keras.optimizers.SGD(),\n",
    "                        metrics=['mae'])\n",
    "\n",
    "# 3. Fit the model\n",
    "insurance_model_1.fit(X_train, y_train, epochs=100)"
   ]
  },
  {
   "cell_type": "code",
   "execution_count": 14,
   "metadata": {},
   "outputs": [
    {
     "name": "stdout",
     "output_type": "stream",
     "text": [
      "9/9 [==============================] - 0s 2ms/step - loss: 6500.4419 - mae: 6500.4419\n"
     ]
    },
    {
     "data": {
      "text/plain": [
       "[6500.44189453125, 6500.44189453125]"
      ]
     },
     "execution_count": 14,
     "metadata": {},
     "output_type": "execute_result"
    }
   ],
   "source": [
    "# Test the model\n",
    "insurance_model_1.evaluate(X_test, y_test)"
   ]
  },
  {
   "attachments": {},
   "cell_type": "markdown",
   "metadata": {},
   "source": [
    "Does not look like a good model."
   ]
  },
  {
   "cell_type": "code",
   "execution_count": 31,
   "metadata": {},
   "outputs": [
    {
     "data": {
      "text/plain": [
       "<keras.callbacks.History at 0x245ff7b0430>"
      ]
     },
     "execution_count": 31,
     "metadata": {},
     "output_type": "execute_result"
    }
   ],
   "source": [
    "# 1. Create insurance_model\n",
    "insurance_model_2 = tf.keras.Sequential([\n",
    "    # tf.keras.layers.Dense(100),\n",
    "    tf.keras.layers.Dense(10),\n",
    "    tf.keras.layers.Dense(10)\n",
    "])\n",
    "\n",
    "# 2. Compile the model\n",
    "insurance_model_2.compile(loss=tf.keras.losses.mae,\n",
    "                          optimizer=tf.keras.optimizers.Adam(learning_rate=0.1),\n",
    "                          metrics=['mae'])\n",
    "\n",
    "# 3. Fit the model\n",
    "insurance_model_2.fit(X_train, y_train, epochs=100, verbose=0)"
   ]
  },
  {
   "cell_type": "code",
   "execution_count": 32,
   "metadata": {},
   "outputs": [
    {
     "name": "stdout",
     "output_type": "stream",
     "text": [
      "9/9 [==============================] - 0s 2ms/step - loss: 3917.9922 - mae: 3917.9922\n"
     ]
    },
    {
     "data": {
      "text/plain": [
       "[3917.9921875, 3917.9921875]"
      ]
     },
     "execution_count": 32,
     "metadata": {},
     "output_type": "execute_result"
    }
   ],
   "source": [
    "# Evaluate the new model\n",
    "insurance_model_2.evaluate(X_test, y_test)"
   ]
  },
  {
   "attachments": {},
   "cell_type": "markdown",
   "metadata": {},
   "source": [
    "Create a new model and train it for longer"
   ]
  },
  {
   "cell_type": "code",
   "execution_count": 62,
   "metadata": {},
   "outputs": [],
   "source": [
    "# 1. Create a new model\n",
    "insurance_model_3 = tf.keras.Sequential([\n",
    "    tf.keras.layers.Dense(10),\n",
    "    tf.keras.layers.Dense(10)\n",
    "])\n",
    "\n",
    "# 2. Compile the model\n",
    "insurance_model_3.compile(loss=tf.keras.losses.mae,\n",
    "                          optimizer=tf.keras.optimizers.Adam(learning_rate=0.1),\n",
    "                          metrics=['mae'])\n",
    "\n",
    "# 3. Fit the model\n",
    "history = insurance_model_3.fit(\n",
    "    X_train,\n",
    "    y_train,\n",
    "    epochs=200,\n",
    "    verbose=0,\n",
    "    callbacks=[tf.keras.callbacks.EarlyStopping(monitor='loss', patience=10)]\n",
    ")"
   ]
  },
  {
   "cell_type": "code",
   "execution_count": 63,
   "metadata": {},
   "outputs": [
    {
     "name": "stdout",
     "output_type": "stream",
     "text": [
      "9/9 [==============================] - 0s 2ms/step - loss: 3766.8901 - mae: 3766.8901\n"
     ]
    },
    {
     "data": {
      "text/plain": [
       "[3766.89013671875, 3766.89013671875]"
      ]
     },
     "execution_count": 63,
     "metadata": {},
     "output_type": "execute_result"
    }
   ],
   "source": [
    "insurance_model_3.evaluate(X_test, y_test)"
   ]
  },
  {
   "cell_type": "code",
   "execution_count": 64,
   "metadata": {},
   "outputs": [
    {
     "data": {
      "text/plain": [
       "Text(0.5, 0, 'Epochs')"
      ]
     },
     "execution_count": 64,
     "metadata": {},
     "output_type": "execute_result"
    },
    {
     "data": {
      "image/png": "[encoded data removed]",
      "text/plain": [
       "<Figure size 640x480 with 1 Axes>"
      ]
     },
     "metadata": {},
     "output_type": "display_data"
    }
   ],
   "source": [
    "# Plot history (also known as a loss curve or training curve)\n",
    "pd.DataFrame(history.history).plot()\n",
    "plt.ylabel('Loss')\n",
    "plt.xlabel('Epochs')"
   ]
  },
  {
   "attachments": {},
   "cell_type": "markdown",
   "metadata": {},
   "source": [
    "> How long should we train for?\n",
    "\n",
    "Use **EarlyStopping Callback** to stop training whenever the loss stops increasing for a few epochs"
   ]
  },
  {
   "attachments": {},
   "cell_type": "markdown",
   "metadata": {},
   "source": [
    "## Preprocessing Data (Normalization and Standardization)\n",
    "\n",
    "1. Turn all data into numbers (neural networks can't handle strings)\n",
    "\n",
    "2. Make sure all of your tensors are the right shape\n",
    "\n",
    "3. Scale features (normalize or standardize, neural networks tend to prefer normalization)"
   ]
  },
  {
   "attachments": {},
   "cell_type": "markdown",
   "metadata": {},
   "source": [
    "Scaling Type\n",
    "\n",
    "* _Scale_ (also, _normalization_)\n",
    "    * Converts all values to between 0 and 1 whilst preserving the original distribution\n",
    "    * **Scikit-Learn**: `MinMaxScaler`\n",
    "    * **Use** as default scaler with neural networks\n",
    "* _Standardization_\n",
    "    * Removes the mean and divides each value by the standard deviation (z-score).\n",
    "    * **Scikit-Learn**: `StandardScaler`\n",
    "    * **Use** when you want to transform a feature to have close to a normal distribution (caution: this reduces the effect of outliers)"
   ]
  },
  {
   "cell_type": "code",
   "execution_count": 70,
   "metadata": {},
   "outputs": [
    {
     "data": {
      "text/html": [
       "<div>\n",
       "<style scoped>\n",
       "    .dataframe tbody tr th:only-of-type {\n",
       "        vertical-align: middle;\n",
       "    }\n",
       "\n",
       "    .dataframe tbody tr th {\n",
       "        vertical-align: top;\n",
       "    }\n",
       "\n",
       "    .dataframe thead th {\n",
       "        text-align: right;\n",
       "    }\n",
       "</style>\n",
       "<table border=\"1\" class=\"dataframe\">\n",
       "  <thead>\n",
       "    <tr style=\"text-align: right;\">\n",
       "      <th></th>\n",
       "      <th>age</th>\n",
       "      <th>sex</th>\n",
       "      <th>bmi</th>\n",
       "      <th>children</th>\n",
       "      <th>smoker</th>\n",
       "      <th>region</th>\n",
       "      <th>charges</th>\n",
       "    </tr>\n",
       "  </thead>\n",
       "  <tbody>\n",
       "    <tr>\n",
       "      <th>0</th>\n",
       "      <td>19</td>\n",
       "      <td>female</td>\n",
       "      <td>27.900</td>\n",
       "      <td>0</td>\n",
       "      <td>yes</td>\n",
       "      <td>southwest</td>\n",
       "      <td>16884.92400</td>\n",
       "    </tr>\n",
       "    <tr>\n",
       "      <th>1</th>\n",
       "      <td>18</td>\n",
       "      <td>male</td>\n",
       "      <td>33.770</td>\n",
       "      <td>1</td>\n",
       "      <td>no</td>\n",
       "      <td>southeast</td>\n",
       "      <td>1725.55230</td>\n",
       "    </tr>\n",
       "    <tr>\n",
       "      <th>2</th>\n",
       "      <td>28</td>\n",
       "      <td>male</td>\n",
       "      <td>33.000</td>\n",
       "      <td>3</td>\n",
       "      <td>no</td>\n",
       "      <td>southeast</td>\n",
       "      <td>4449.46200</td>\n",
       "    </tr>\n",
       "    <tr>\n",
       "      <th>3</th>\n",
       "      <td>33</td>\n",
       "      <td>male</td>\n",
       "      <td>22.705</td>\n",
       "      <td>0</td>\n",
       "      <td>no</td>\n",
       "      <td>northwest</td>\n",
       "      <td>21984.47061</td>\n",
       "    </tr>\n",
       "    <tr>\n",
       "      <th>4</th>\n",
       "      <td>32</td>\n",
       "      <td>male</td>\n",
       "      <td>28.880</td>\n",
       "      <td>0</td>\n",
       "      <td>no</td>\n",
       "      <td>northwest</td>\n",
       "      <td>3866.85520</td>\n",
       "    </tr>\n",
       "  </tbody>\n",
       "</table>\n",
       "</div>"
      ],
      "text/plain": [
       "   age     sex     bmi  children smoker     region      charges\n",
       "0   19  female  27.900         0    yes  southwest  16884.92400\n",
       "1   18    male  33.770         1     no  southeast   1725.55230\n",
       "2   28    male  33.000         3     no  southeast   4449.46200\n",
       "3   33    male  22.705         0     no  northwest  21984.47061\n",
       "4   32    male  28.880         0     no  northwest   3866.85520"
      ]
     },
     "execution_count": 70,
     "metadata": {},
     "output_type": "execute_result"
    }
   ],
   "source": [
    "import pandas as pd\n",
    "import numpy as np\n",
    "import matplotlib.pyplot as plt\n",
    "import tensorflow as tf\n",
    "\n",
    "\n",
    "insurance = pd.read_csv('https://raw.githubusercontent.com/stedy/Machine-Learning-with-R-datasets/master/insurance.csv')\n",
    "insurance.head()"
   ]
  },
  {
   "cell_type": "code",
   "execution_count": 71,
   "metadata": {},
   "outputs": [],
   "source": [
    "def min_max_scaler(data):\n",
    "    return data / data.max()\n",
    "\n",
    "\n",
    "def standardize(data):\n",
    "    return data / data.std(axis=1)\n",
    "\n",
    "# print(min_max_scaler(insurance['bmi']))"
   ]
  },
  {
   "cell_type": "code",
   "execution_count": 72,
   "metadata": {},
   "outputs": [
    {
     "data": {
      "text/plain": [
       "<AxesSubplot: ylabel='Frequency'>"
      ]
     },
     "execution_count": 72,
     "metadata": {},
     "output_type": "execute_result"
    },
    {
     "data": {
      "image/png": "[encoded data removed]",
      "text/plain": [
       "<Figure size 640x480 with 1 Axes>"
      ]
     },
     "metadata": {},
     "output_type": "display_data"
    }
   ],
   "source": [
    "insurance['bmi'].plot(kind='hist')"
   ]
  },
  {
   "cell_type": "code",
   "execution_count": 69,
   "metadata": {},
   "outputs": [
    {
     "data": {
      "text/plain": [
       "(array([ 30., 127., 234., 319., 288., 195.,  96.,  32.,  14.,   3.]),\n",
       " array([0.30039526, 0.37035573, 0.44031621, 0.51027668, 0.58023715,\n",
       "        0.65019763, 0.7201581 , 0.79011858, 0.86007905, 0.93003953,\n",
       "        1.        ]),\n",
       " <BarContainer object of 10 artists>)"
      ]
     },
     "execution_count": 69,
     "metadata": {},
     "output_type": "execute_result"
    },
    {
     "data": {
      "image/png": "[encoded data removed]",
      "text/plain": [
       "<Figure size 640x480 with 1 Axes>"
      ]
     },
     "metadata": {},
     "output_type": "display_data"
    }
   ],
   "source": [
    "plt.hist(min_max_scaler(insurance['bmi']))"
   ]
  },
  {
   "cell_type": "code",
   "execution_count": 75,
   "metadata": {},
   "outputs": [],
   "source": [
    "from sklearn.compose import make_column_transformer\n",
    "from sklearn.preprocessing import MinMaxScaler, OneHotEncoder\n",
    "from sklearn.model_selection import train_test_split\n",
    "\n",
    "\n",
    "# Create a column transformer\n",
    "ct = make_column_transformer(\n",
    "    (MinMaxScaler(), ('age', 'bmi', 'children',)),\n",
    "    (OneHotEncoder(handle_unknown='ignore'), ('sex', 'smoker', 'region'))\n",
    ")\n",
    "\n",
    "# Create X & y\n",
    "X = insurance.drop('charges', axis=1)\n",
    "y = insurance['charges']\n",
    "\n",
    "# Fit the column transformer to our data\n",
    "ct.fit(X)\n",
    "\n",
    "# Transform data with MinMaxScaler and OneHotEncoder\n",
    "X = ct.transform(X)\n",
    "\n",
    "# Create test & train sets\n",
    "X_train, X_test, y_train, y_test = train_test_split(X, y, test_size=0.2)"
   ]
  },
  {
   "cell_type": "code",
   "execution_count": 79,
   "metadata": {},
   "outputs": [
    {
     "data": {
      "text/plain": [
       "(array([ 30., 127., 234., 319., 288., 195.,  96.,  32.,  14.,   3.]),\n",
       " array([0. , 0.1, 0.2, 0.3, 0.4, 0.5, 0.6, 0.7, 0.8, 0.9, 1. ]),\n",
       " <BarContainer object of 10 artists>)"
      ]
     },
     "execution_count": 79,
     "metadata": {},
     "output_type": "execute_result"
    },
    {
     "data": {
      "image/png": "[encoded data removed]",
      "text/plain": [
       "<Figure size 640x480 with 1 Axes>"
      ]
     },
     "metadata": {},
     "output_type": "display_data"
    }
   ],
   "source": [
    "plt.hist(X[:,1])"
   ]
  },
  {
   "cell_type": "code",
   "execution_count": 116,
   "metadata": {},
   "outputs": [],
   "source": [
    "# Building a model but using normalized data\n",
    "# 1. Build model\n",
    "insurance_model_4 = tf.keras.Sequential([\n",
    "    tf.keras.layers.Dense(10),\n",
    "    tf.keras.layers.Dense(5),\n",
    "    tf.keras.layers.Dense(5),\n",
    "    tf.keras.layers.Dense(1)\n",
    "])\n",
    "\n",
    "# 2. Compile the model\n",
    "insurance_model_4.compile(loss=tf.keras.losses.mae,\n",
    "                          optimizer=tf.keras.optimizers.Adam(learning_rate=0.1),\n",
    "                          metrics=['mae'])\n",
    "\n",
    "# 3. Fit the model\n",
    "history = insurance_model_4.fit(\n",
    "    X_train,\n",
    "    y_train,\n",
    "    epochs=200,\n",
    "    verbose=0,\n",
    "    callbacks=[tf.keras.callbacks.EarlyStopping(monitor='mae', patience=10, restore_best_weights=True)]\n",
    ")"
   ]
  },
  {
   "cell_type": "code",
   "execution_count": 117,
   "metadata": {},
   "outputs": [
    {
     "name": "stdout",
     "output_type": "stream",
     "text": [
      "9/9 [==============================] - 0s 3ms/step - loss: 3466.4084 - mae: 3466.4084\n"
     ]
    },
    {
     "data": {
      "text/plain": [
       "[3466.408447265625, 3466.408447265625]"
      ]
     },
     "execution_count": 117,
     "metadata": {},
     "output_type": "execute_result"
    }
   ],
   "source": [
    "insurance_model_4.evaluate(X_test, y_test)"
   ]
  },
  {
   "cell_type": "code",
   "execution_count": 118,
   "metadata": {},
   "outputs": [
    {
     "data": {
      "text/plain": [
       "Text(0.5, 0, 'Epoch')"
      ]
     },
     "execution_count": 118,
     "metadata": {},
     "output_type": "execute_result"
    },
    {
     "data": {
      "image/png": "[encoded data removed]",
      "text/plain": [
       "<Figure size 640x480 with 1 Axes>"
      ]
     },
     "metadata": {},
     "output_type": "display_data"
    }
   ],
   "source": [
    "plt.plot(history.history['mae'])\n",
    "plt.ylabel('MAE')\n",
    "plt.xlabel('Epoch')"
   ]
  }
 ],
 "metadata": {
  "kernelspec": {
   "display_name": "Python 3",
   "language": "python",
   "name": "python3"
  },
  "language_info": {
   "codemirror_mode": {
    "name": "ipython",
    "version": 3
   },
   "file_extension": ".py",
   "mimetype": "text/x-python",
   "name": "python",
   "nbconvert_exporter": "python",
   "pygments_lexer": "ipython3",
   "version": "3.10.7"
  },
  "orig_nbformat": 4
 },
 "nbformat": 4,
 "nbformat_minor": 2
}
